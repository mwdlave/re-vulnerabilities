{
 "cells": [
  {
   "cell_type": "markdown",
   "metadata": {},
   "source": [
    "# Evaluate circuit faithfulness"
   ]
  },
  {
   "cell_type": "code",
   "execution_count": 9,
   "metadata": {},
   "outputs": [
    {
     "name": "stdout",
     "output_type": "stream",
     "text": [
      "Loaded pretrained model meta-llama/Llama-3.2-1B into HookedTransformer\n",
      "Total number of edges: 386713\n"
     ]
    }
   ],
   "source": [
    "import os\n",
    "import sys\n",
    "module_path = os.path.abspath(os.path.join('../..'))\n",
    "if module_path not in sys.path:\n",
    "    sys.path.append(module_path)\n",
    "\n",
    "import torch\n",
    "import pandas as pd\n",
    "import matplotlib.pyplot as plt\n",
    "import plotly.graph_objects as go\n",
    "from plotly.subplots import make_subplots\n",
    "\n",
    "from transformer_lens import HookedTransformer\n",
    "from src.graph import Graph\n",
    "\n",
    "\n",
    "# def display_name(task):\n",
    "#     if '-comma' in task:\n",
    "#         task = task[:-6]\n",
    "#     return display_name_dict[task]\n",
    "\n",
    "def n_edges(model_name: str) -> int:\n",
    "    model = HookedTransformer.from_pretrained(\n",
    "        model_name,\n",
    "        center_writing_weights=False,\n",
    "        center_unembed=False,\n",
    "        fold_ln=False,\n",
    "    )\n",
    "    model.cfg.use_split_qkv_input = True\n",
    "    model.cfg.use_attn_result = True\n",
    "    model.cfg.use_hook_mlp_in = True\n",
    "    model.cfg.ungroup_grouped_query_attention = True\n",
    "    g = Graph.from_model(model)\n",
    "    return len(g.edges)\n",
    "\n",
    "def edge_counter(g: Graph) -> int:\n",
    "    total_edges = 0\n",
    "    for node_str in g.nodes:\n",
    "        node = g.nodes[node_str]\n",
    "        for p_edge in node.parent_edges:\n",
    "            if p_edge.in_graph:\n",
    "                total_edges += 1\n",
    "    return total_edges\n",
    "\n",
    "model_name = \"meta-llama/Llama-3.2-1B\"\n",
    "model_name_noslash = 'Llama-3.2-1B-Instruct'\n",
    "total_edges = n_edges(model_name)\n",
    "print(f\"Total number of edges: {total_edges}\")"
   ]
  },
  {
   "cell_type": "code",
   "execution_count": 2,
   "metadata": {},
   "outputs": [
    {
     "data": {
      "application/vnd.plotly.v1+json": {
       "config": {
        "plotlyServerURL": "https://plot.ly"
       },
       "data": [
        {
         "legendgroup": "EAP",
         "line": {
          "color": "#FFA15A"
         },
         "mode": "lines",
         "name": "EAP",
         "showlegend": false,
         "type": "scatter",
         "x": {
          "bdata": "NAMZB+cK4g7OErUW2hrtHuEiySa4KqYujDJ4NmU6WD5DQjBGGEr9TQ==",
          "dtype": "i2"
         },
         "xaxis": "x",
         "y": {
          "bdata": "rEI+WPYbmL96ecHU+RuwP7GJdrVkUp6/8/lBTUeCsj+iqW7bFajSP3z9634Bz90/gX5Ke4Q01z/tTcqYR17UP57IjPLQk9M/s135jxdw2T/Keok8JhLjP8XD+mehw+E//jIutWOW4D+yrcXW7VnhP4fZHdtZMNs/DWUhbLhU3j8F4QJb58/YP2vyTOyBLuM/i6hPBHBr4T8/2ckZCWLePw==",
          "dtype": "f8"
         },
         "yaxis": "y"
        },
        {
         "legendgroup": "EAP-IG",
         "line": {
          "color": "#19D3F3"
         },
         "mode": "lines",
         "name": "EAP-IG",
         "showlegend": false,
         "type": "scatter",
         "x": {
          "bdata": "IgPmBuEK2A6+EtQWoBqcHp4ifCZ0Kk4uQDJNNjk6IT4FQvZF6knNTQ==",
          "dtype": "i2"
         },
         "xaxis": "x",
         "y": {
          "bdata": "vKglTLmWkT/ZPGU2gUW/P/lDVcs/Psk/Gcn0m2sW1D/ffYJylOzUP/iM9L4ORdE/sgKI0jlc0j/lt83xmiHVP9CnR0yEhdY/FIltwcs72T/r/T0wRvfhP9bjv5o0DuI/h/RyFVtk6T+C87n65YHoP+13W/Bm1OM/qmn16ZYW5z9X7YdTkxHpP7/zN5RcL+o/CKYnWScv7T8PA3y60GjrPw==",
          "dtype": "f8"
         },
         "yaxis": "y"
        },
        {
         "legendgroup": "EAP",
         "line": {
          "color": "#FFA15A"
         },
         "mode": "lines",
         "name": "EAP",
         "showlegend": true,
         "type": "scatter",
         "x": {
          "bdata": "eQFMAzkFMwcsCQ0LAw0VDyERDhMBFfkW7Rj1GvAc6h7eINAi1yQ=",
          "dtype": "i2"
         },
         "xaxis": "x2",
         "y": {
          "bdata": "6wuUQDlOpr/flzNOdDu1P7ddpqntA6w/fidLZMDO1z9PkIO52QLXP4GKujV10do/WZS49yuN0j+wRWwttlDSP4WkasQc9Ns/AuqYh0I34D80bomma4jZP5hSa6UOpdo/2jmvPx161j97at/HRCjZP+QtYB+gTOE/wj+oSJBG4j+hRG1yq9ThP2N0WFz2L+c/Yf3m8TpZ5j8=",
          "dtype": "f8"
         },
         "yaxis": "y2"
        },
        {
         "legendgroup": "EAP-IG",
         "line": {
          "color": "#19D3F3"
         },
         "mode": "lines",
         "name": "EAP-IG",
         "showlegend": true,
         "type": "scatter",
         "x": {
          "bdata": "fwFBAy8FKwcMCRoLDA3xDs4Q2xLfFOsW6RjZGs4cuh64ILAimiQ=",
          "dtype": "i2"
         },
         "xaxis": "x2",
         "y": {
          "bdata": "xqweBbI2vL+LNrPun9WzPweeWsUIt9E/nffW/BLo2z8Ec8VvsaTdP/qY9Ew9Q9o/Vxd8J0Pm2D+6TOhbI5fUPw+UfhIdpNM/ob5w/eD+1D8ySu6CJvfZPzsrBpMtw9g/rvZ5jeg61T9UV4qnIPPXP8eSKB8E19k/Uopo80z01j/vQ5tFHzjbP/tAj+CbAdw/eCbylqRf2z8=",
          "dtype": "f8"
         },
         "yaxis": "y2"
        },
        {
         "legendgroup": "EAP-IG-KL",
         "line": {
          "color": "#FF6692"
         },
         "mode": "lines",
         "name": "EAP-IG-KL",
         "showlegend": true,
         "type": "scatter",
         "x": {
          "bdata": "gwFYA2QFRwczCTMLIg0JD/kQ+xLxFAQX/xj8GvEc5R7VINoiySQ=",
          "dtype": "i2"
         },
         "xaxis": "x2",
         "y": {
          "bdata": "2cRP6fQ3tj9wQy4ZlkXJP4rwxTD9KMY/yr9NjJO4wD8H3sryu3/SP5Xnfwo/ENY/Ver2XeVn1T8YBFu6ByTdPzoESaer2dg/UviuOUL73D8EiRzPcvXcP2P9uDFoQ+A/N1OWkNT+4T+uW6v1Q3rmP5kB9n6z/OU/A0SFVpp85j9BI0f6XS/jPw2/K/+n3eI/SMwgc50W4T8=",
          "dtype": "f8"
         },
         "yaxis": "y2"
        }
       ],
       "layout": {
        "annotations": [
         {
          "font": {
           "size": 16
          },
          "showarrow": false,
          "text": "Toxicity",
          "x": 0.225,
          "xanchor": "center",
          "xref": "paper",
          "y": 1,
          "yanchor": "bottom",
          "yref": "paper"
         },
         {
          "font": {
           "size": 16
          },
          "showarrow": false,
          "text": "Name Bias",
          "x": 0.775,
          "xanchor": "center",
          "xref": "paper",
          "y": 1,
          "yanchor": "bottom",
          "yref": "paper"
         }
        ],
        "height": 400,
        "legend": {
         "orientation": "h",
         "x": 0.5,
         "xanchor": "center",
         "y": -0.4,
         "yanchor": "bottom"
        },
        "paper_bgcolor": "white",
        "plot_bgcolor": "white",
        "showlegend": true,
        "template": {
         "data": {
          "bar": [
           {
            "error_x": {
             "color": "#2a3f5f"
            },
            "error_y": {
             "color": "#2a3f5f"
            },
            "marker": {
             "line": {
              "color": "#E5ECF6",
              "width": 0.5
             },
             "pattern": {
              "fillmode": "overlay",
              "size": 10,
              "solidity": 0.2
             }
            },
            "type": "bar"
           }
          ],
          "barpolar": [
           {
            "marker": {
             "line": {
              "color": "#E5ECF6",
              "width": 0.5
             },
             "pattern": {
              "fillmode": "overlay",
              "size": 10,
              "solidity": 0.2
             }
            },
            "type": "barpolar"
           }
          ],
          "carpet": [
           {
            "aaxis": {
             "endlinecolor": "#2a3f5f",
             "gridcolor": "white",
             "linecolor": "white",
             "minorgridcolor": "white",
             "startlinecolor": "#2a3f5f"
            },
            "baxis": {
             "endlinecolor": "#2a3f5f",
             "gridcolor": "white",
             "linecolor": "white",
             "minorgridcolor": "white",
             "startlinecolor": "#2a3f5f"
            },
            "type": "carpet"
           }
          ],
          "choropleth": [
           {
            "colorbar": {
             "outlinewidth": 0,
             "ticks": ""
            },
            "type": "choropleth"
           }
          ],
          "contour": [
           {
            "colorbar": {
             "outlinewidth": 0,
             "ticks": ""
            },
            "colorscale": [
             [
              0,
              "#0d0887"
             ],
             [
              0.1111111111111111,
              "#46039f"
             ],
             [
              0.2222222222222222,
              "#7201a8"
             ],
             [
              0.3333333333333333,
              "#9c179e"
             ],
             [
              0.4444444444444444,
              "#bd3786"
             ],
             [
              0.5555555555555556,
              "#d8576b"
             ],
             [
              0.6666666666666666,
              "#ed7953"
             ],
             [
              0.7777777777777778,
              "#fb9f3a"
             ],
             [
              0.8888888888888888,
              "#fdca26"
             ],
             [
              1,
              "#f0f921"
             ]
            ],
            "type": "contour"
           }
          ],
          "contourcarpet": [
           {
            "colorbar": {
             "outlinewidth": 0,
             "ticks": ""
            },
            "type": "contourcarpet"
           }
          ],
          "heatmap": [
           {
            "colorbar": {
             "outlinewidth": 0,
             "ticks": ""
            },
            "colorscale": [
             [
              0,
              "#0d0887"
             ],
             [
              0.1111111111111111,
              "#46039f"
             ],
             [
              0.2222222222222222,
              "#7201a8"
             ],
             [
              0.3333333333333333,
              "#9c179e"
             ],
             [
              0.4444444444444444,
              "#bd3786"
             ],
             [
              0.5555555555555556,
              "#d8576b"
             ],
             [
              0.6666666666666666,
              "#ed7953"
             ],
             [
              0.7777777777777778,
              "#fb9f3a"
             ],
             [
              0.8888888888888888,
              "#fdca26"
             ],
             [
              1,
              "#f0f921"
             ]
            ],
            "type": "heatmap"
           }
          ],
          "histogram": [
           {
            "marker": {
             "pattern": {
              "fillmode": "overlay",
              "size": 10,
              "solidity": 0.2
             }
            },
            "type": "histogram"
           }
          ],
          "histogram2d": [
           {
            "colorbar": {
             "outlinewidth": 0,
             "ticks": ""
            },
            "colorscale": [
             [
              0,
              "#0d0887"
             ],
             [
              0.1111111111111111,
              "#46039f"
             ],
             [
              0.2222222222222222,
              "#7201a8"
             ],
             [
              0.3333333333333333,
              "#9c179e"
             ],
             [
              0.4444444444444444,
              "#bd3786"
             ],
             [
              0.5555555555555556,
              "#d8576b"
             ],
             [
              0.6666666666666666,
              "#ed7953"
             ],
             [
              0.7777777777777778,
              "#fb9f3a"
             ],
             [
              0.8888888888888888,
              "#fdca26"
             ],
             [
              1,
              "#f0f921"
             ]
            ],
            "type": "histogram2d"
           }
          ],
          "histogram2dcontour": [
           {
            "colorbar": {
             "outlinewidth": 0,
             "ticks": ""
            },
            "colorscale": [
             [
              0,
              "#0d0887"
             ],
             [
              0.1111111111111111,
              "#46039f"
             ],
             [
              0.2222222222222222,
              "#7201a8"
             ],
             [
              0.3333333333333333,
              "#9c179e"
             ],
             [
              0.4444444444444444,
              "#bd3786"
             ],
             [
              0.5555555555555556,
              "#d8576b"
             ],
             [
              0.6666666666666666,
              "#ed7953"
             ],
             [
              0.7777777777777778,
              "#fb9f3a"
             ],
             [
              0.8888888888888888,
              "#fdca26"
             ],
             [
              1,
              "#f0f921"
             ]
            ],
            "type": "histogram2dcontour"
           }
          ],
          "mesh3d": [
           {
            "colorbar": {
             "outlinewidth": 0,
             "ticks": ""
            },
            "type": "mesh3d"
           }
          ],
          "parcoords": [
           {
            "line": {
             "colorbar": {
              "outlinewidth": 0,
              "ticks": ""
             }
            },
            "type": "parcoords"
           }
          ],
          "pie": [
           {
            "automargin": true,
            "type": "pie"
           }
          ],
          "scatter": [
           {
            "fillpattern": {
             "fillmode": "overlay",
             "size": 10,
             "solidity": 0.2
            },
            "type": "scatter"
           }
          ],
          "scatter3d": [
           {
            "line": {
             "colorbar": {
              "outlinewidth": 0,
              "ticks": ""
             }
            },
            "marker": {
             "colorbar": {
              "outlinewidth": 0,
              "ticks": ""
             }
            },
            "type": "scatter3d"
           }
          ],
          "scattercarpet": [
           {
            "marker": {
             "colorbar": {
              "outlinewidth": 0,
              "ticks": ""
             }
            },
            "type": "scattercarpet"
           }
          ],
          "scattergeo": [
           {
            "marker": {
             "colorbar": {
              "outlinewidth": 0,
              "ticks": ""
             }
            },
            "type": "scattergeo"
           }
          ],
          "scattergl": [
           {
            "marker": {
             "colorbar": {
              "outlinewidth": 0,
              "ticks": ""
             }
            },
            "type": "scattergl"
           }
          ],
          "scattermap": [
           {
            "marker": {
             "colorbar": {
              "outlinewidth": 0,
              "ticks": ""
             }
            },
            "type": "scattermap"
           }
          ],
          "scattermapbox": [
           {
            "marker": {
             "colorbar": {
              "outlinewidth": 0,
              "ticks": ""
             }
            },
            "type": "scattermapbox"
           }
          ],
          "scatterpolar": [
           {
            "marker": {
             "colorbar": {
              "outlinewidth": 0,
              "ticks": ""
             }
            },
            "type": "scatterpolar"
           }
          ],
          "scatterpolargl": [
           {
            "marker": {
             "colorbar": {
              "outlinewidth": 0,
              "ticks": ""
             }
            },
            "type": "scatterpolargl"
           }
          ],
          "scatterternary": [
           {
            "marker": {
             "colorbar": {
              "outlinewidth": 0,
              "ticks": ""
             }
            },
            "type": "scatterternary"
           }
          ],
          "surface": [
           {
            "colorbar": {
             "outlinewidth": 0,
             "ticks": ""
            },
            "colorscale": [
             [
              0,
              "#0d0887"
             ],
             [
              0.1111111111111111,
              "#46039f"
             ],
             [
              0.2222222222222222,
              "#7201a8"
             ],
             [
              0.3333333333333333,
              "#9c179e"
             ],
             [
              0.4444444444444444,
              "#bd3786"
             ],
             [
              0.5555555555555556,
              "#d8576b"
             ],
             [
              0.6666666666666666,
              "#ed7953"
             ],
             [
              0.7777777777777778,
              "#fb9f3a"
             ],
             [
              0.8888888888888888,
              "#fdca26"
             ],
             [
              1,
              "#f0f921"
             ]
            ],
            "type": "surface"
           }
          ],
          "table": [
           {
            "cells": {
             "fill": {
              "color": "#EBF0F8"
             },
             "line": {
              "color": "white"
             }
            },
            "header": {
             "fill": {
              "color": "#C8D4E3"
             },
             "line": {
              "color": "white"
             }
            },
            "type": "table"
           }
          ]
         },
         "layout": {
          "annotationdefaults": {
           "arrowcolor": "#2a3f5f",
           "arrowhead": 0,
           "arrowwidth": 1
          },
          "autotypenumbers": "strict",
          "coloraxis": {
           "colorbar": {
            "outlinewidth": 0,
            "ticks": ""
           }
          },
          "colorscale": {
           "diverging": [
            [
             0,
             "#8e0152"
            ],
            [
             0.1,
             "#c51b7d"
            ],
            [
             0.2,
             "#de77ae"
            ],
            [
             0.3,
             "#f1b6da"
            ],
            [
             0.4,
             "#fde0ef"
            ],
            [
             0.5,
             "#f7f7f7"
            ],
            [
             0.6,
             "#e6f5d0"
            ],
            [
             0.7,
             "#b8e186"
            ],
            [
             0.8,
             "#7fbc41"
            ],
            [
             0.9,
             "#4d9221"
            ],
            [
             1,
             "#276419"
            ]
           ],
           "sequential": [
            [
             0,
             "#0d0887"
            ],
            [
             0.1111111111111111,
             "#46039f"
            ],
            [
             0.2222222222222222,
             "#7201a8"
            ],
            [
             0.3333333333333333,
             "#9c179e"
            ],
            [
             0.4444444444444444,
             "#bd3786"
            ],
            [
             0.5555555555555556,
             "#d8576b"
            ],
            [
             0.6666666666666666,
             "#ed7953"
            ],
            [
             0.7777777777777778,
             "#fb9f3a"
            ],
            [
             0.8888888888888888,
             "#fdca26"
            ],
            [
             1,
             "#f0f921"
            ]
           ],
           "sequentialminus": [
            [
             0,
             "#0d0887"
            ],
            [
             0.1111111111111111,
             "#46039f"
            ],
            [
             0.2222222222222222,
             "#7201a8"
            ],
            [
             0.3333333333333333,
             "#9c179e"
            ],
            [
             0.4444444444444444,
             "#bd3786"
            ],
            [
             0.5555555555555556,
             "#d8576b"
            ],
            [
             0.6666666666666666,
             "#ed7953"
            ],
            [
             0.7777777777777778,
             "#fb9f3a"
            ],
            [
             0.8888888888888888,
             "#fdca26"
            ],
            [
             1,
             "#f0f921"
            ]
           ]
          },
          "colorway": [
           "#636efa",
           "#EF553B",
           "#00cc96",
           "#ab63fa",
           "#FFA15A",
           "#19d3f3",
           "#FF6692",
           "#B6E880",
           "#FF97FF",
           "#FECB52"
          ],
          "font": {
           "color": "#2a3f5f"
          },
          "geo": {
           "bgcolor": "white",
           "lakecolor": "white",
           "landcolor": "#E5ECF6",
           "showlakes": true,
           "showland": true,
           "subunitcolor": "white"
          },
          "hoverlabel": {
           "align": "left"
          },
          "hovermode": "closest",
          "mapbox": {
           "style": "light"
          },
          "paper_bgcolor": "white",
          "plot_bgcolor": "#E5ECF6",
          "polar": {
           "angularaxis": {
            "gridcolor": "white",
            "linecolor": "white",
            "ticks": ""
           },
           "bgcolor": "#E5ECF6",
           "radialaxis": {
            "gridcolor": "white",
            "linecolor": "white",
            "ticks": ""
           }
          },
          "scene": {
           "xaxis": {
            "backgroundcolor": "#E5ECF6",
            "gridcolor": "white",
            "gridwidth": 2,
            "linecolor": "white",
            "showbackground": true,
            "ticks": "",
            "zerolinecolor": "white"
           },
           "yaxis": {
            "backgroundcolor": "#E5ECF6",
            "gridcolor": "white",
            "gridwidth": 2,
            "linecolor": "white",
            "showbackground": true,
            "ticks": "",
            "zerolinecolor": "white"
           },
           "zaxis": {
            "backgroundcolor": "#E5ECF6",
            "gridcolor": "white",
            "gridwidth": 2,
            "linecolor": "white",
            "showbackground": true,
            "ticks": "",
            "zerolinecolor": "white"
           }
          },
          "shapedefaults": {
           "line": {
            "color": "#2a3f5f"
           }
          },
          "ternary": {
           "aaxis": {
            "gridcolor": "white",
            "linecolor": "white",
            "ticks": ""
           },
           "baxis": {
            "gridcolor": "white",
            "linecolor": "white",
            "ticks": ""
           },
           "bgcolor": "#E5ECF6",
           "caxis": {
            "gridcolor": "white",
            "linecolor": "white",
            "ticks": ""
           }
          },
          "title": {
           "x": 0.05
          },
          "xaxis": {
           "automargin": true,
           "gridcolor": "white",
           "linecolor": "white",
           "ticks": "",
           "title": {
            "standoff": 15
           },
           "zerolinecolor": "white",
           "zerolinewidth": 2
          },
          "yaxis": {
           "automargin": true,
           "gridcolor": "white",
           "linecolor": "white",
           "ticks": "",
           "title": {
            "standoff": 15
           },
           "zerolinecolor": "white",
           "zerolinewidth": 2
          }
         }
        },
        "title": {
         "text": ""
        },
        "width": 1000,
        "xaxis": {
         "anchor": "y",
         "domain": [
          0,
          0.45
         ],
         "gridcolor": "lightgray",
         "nticks": 8,
         "showgrid": true,
         "title": {
          "text": "Edges included (/386713)"
         },
         "zeroline": true,
         "zerolinecolor": "lightgray"
        },
        "xaxis2": {
         "anchor": "y2",
         "domain": [
          0.55,
          1
         ],
         "gridcolor": "lightgray",
         "nticks": 8,
         "showgrid": true,
         "title": {
          "text": "Edges included (/386713)"
         },
         "zeroline": true,
         "zerolinecolor": "lightgray"
        },
        "yaxis": {
         "anchor": "x",
         "domain": [
          0,
          1
         ],
         "gridcolor": "lightgray",
         "nticks": 8,
         "range": [
          -0.1,
          1
         ],
         "showgrid": true,
         "title": {
          "text": "Normalized faithfulness"
         },
         "zeroline": true,
         "zerolinecolor": "lightgray"
        },
        "yaxis2": {
         "anchor": "x2",
         "domain": [
          0,
          1
         ],
         "gridcolor": "lightgray",
         "range": [
          -0.1,
          1
         ],
         "showgrid": true,
         "zeroline": true,
         "zerolinecolor": "lightgray"
        }
       }
      }
     },
     "metadata": {},
     "output_type": "display_data"
    },
    {
     "name": "stderr",
     "output_type": "stream",
     "text": [
      "huggingface/tokenizers: The current process just got forked, after parallelism has already been used. Disabling parallelism to avoid deadlocks...\n",
      "To disable this warning, you can either:\n",
      "\t- Avoid using `tokenizers` before the fork if possible\n",
      "\t- Explicitly set the environment variable TOKENIZERS_PARALLELISM=(true | false)\n"
     ]
    }
   ],
   "source": [
    "import plotly.subplots as sp\n",
    "import plotly.graph_objects as go\n",
    "import pandas as pd\n",
    "import os\n",
    "\n",
    "task_names = ['temp_toxicity_samp', 'adv-bias-3']\n",
    "param_dict = {'temp_toxicity_samp': ['Toxicity', ['EAP', 'EAP-IG']],\n",
    "                     'adv-bias-3': ['Name Bias', ['EAP', 'EAP-IG', 'EAP-IG-KL']]}\n",
    "\n",
    "trace_colors = {\n",
    "    'EAP': '#FFA15A', \n",
    "    'EAP-IG': '#19D3F3',\n",
    "    'EAP-IG-KL': '#FF6692'\n",
    "}\n",
    "\n",
    "rows = 1\n",
    "cols = len(task_names)\n",
    "fig = sp.make_subplots(rows=rows, cols=cols, subplot_titles=[param_dict[task][0] for task in task_names])\n",
    "\n",
    "# Iterate over tasks and add traces\n",
    "for idx, task_name in enumerate(task_names):\n",
    "    df = pd.read_csv(f'./inputs/{task_name}.csv')\n",
    "    \n",
    "    # Normalize faithfulness\n",
    "    for losstype in param_dict[task_name][1]:\n",
    "        df[f'normalized_faithfulness_{losstype}'] = (\n",
    "            df[f'loss_{losstype}'] - df['corrupted_baseline']\n",
    "        ) / (df['baseline'] - df['corrupted_baseline'])\n",
    "\n",
    "    # Save processed data\n",
    "    df.to_csv(f'./outputs/{task_name}_graph.csv', index=False)\n",
    "\n",
    "    # Determine subplot position\n",
    "    row = idx // cols + 1\n",
    "    col = idx % cols + 1\n",
    "\n",
    "    # Add traces with legend grouping\n",
    "    show_legend = idx == 1  # Show legend only for the first subplot\n",
    "    for losstype in param_dict[task_name][1]:\n",
    "        fig.add_trace(go.Scatter(\n",
    "            x=df[f'edges_{losstype}'], y=df[f'normalized_faithfulness_{losstype}'], mode='lines',\n",
    "            name=losstype, line=dict(color=trace_colors[losstype]), legendgroup=losstype, showlegend=show_legend\n",
    "        ), row=row, col=col)\n",
    "\n",
    "    # Allow each subplot to have independent y-axis\n",
    "    fig.update_yaxes(matches=None, row=row, col=col)\n",
    "\n",
    "# Global layout settings\n",
    "fig.update_layout(\n",
    "    height=400, width=1000, title_text=\"\",\n",
    "    showlegend=True,\n",
    "    legend=dict(\n",
    "        orientation=\"h\",  # Horizontal legend\n",
    "        yanchor=\"bottom\",  # Anchor to the bottom\n",
    "        y=-0.4,  # Position below the plot\n",
    "        xanchor=\"center\",\n",
    "        x=0.5\n",
    "    )\n",
    ")\n",
    "fig.update_yaxes(range=[-0.1, 1.0], row=1, col=1)\n",
    "fig.update_yaxes(range=[-0.1, 1.0], row=1, col=2)\n",
    "fig.update_yaxes(nticks=8, row=1, col=1)\n",
    "fig.update_xaxes(nticks=8, row=1, col=1)\n",
    "fig.update_xaxes(nticks=8, row=1, col=2)\n",
    "\n",
    "fig.update_layout(\n",
    "    plot_bgcolor='white',  # White background\n",
    "    paper_bgcolor='white'  # White figure background\n",
    ")\n",
    "\n",
    "# Ensure grid and zero lines are light gray\n",
    "fig.update_xaxes(showgrid=True, gridcolor='lightgray', zeroline=True, zerolinecolor='lightgray')\n",
    "fig.update_yaxes(showgrid=True, gridcolor='lightgray', zeroline=True, zerolinecolor='lightgray')\n",
    "\n",
    "# X and Y labels (custom positioning)\n",
    "fig.update_xaxes(title_text=f'Edges included (/{total_edges})')\n",
    "fig.update_yaxes(title_text='Normalized faithfulness', row=1, col=1)\n",
    "\n",
    "# Show figure\n",
    "fig.show()\n",
    "fig.write_image(f\"./outputs/normalized_faithfulness.svg\")"
   ]
  },
  {
   "cell_type": "markdown",
   "metadata": {},
   "source": [
    "### Bias heatmaps"
   ]
  },
  {
   "cell_type": "code",
   "execution_count": 3,
   "metadata": {},
   "outputs": [
    {
     "name": "stderr",
     "output_type": "stream",
     "text": [
      "/var/folders/ts/2_ky83950p3_q8mq0075gb1c0000gn/T/ipykernel_7820/2492525684.py:5: FutureWarning:\n",
      "\n",
      "You are using `torch.load` with `weights_only=False` (the current default value), which uses the default pickle module implicitly. It is possible to construct malicious pickle data which will execute arbitrary code during unpickling (See https://github.com/pytorch/pytorch/blob/main/SECURITY.md#untrusted-models for more details). In a future release, the default value for `weights_only` will be flipped to `True`. This limits the functions that could be executed during unpickling. Arbitrary objects will no longer be allowed to be loaded via this mode unless they are explicitly allowlisted by the user via `torch.serialization.add_safe_globals`. We recommend you start setting `weights_only=True` for any use case where you don't have full control of the loaded file. Please open an issue on GitHub for any issues related to this experimental feature.\n",
      "\n"
     ]
    }
   ],
   "source": [
    "# Specify the path to the .pth file\n",
    "pth_file_path = './inputs/vul_heads_og_method_bias.pth'\n",
    "\n",
    "# Load the tensor from the .pth file\n",
    "act_patching_tensor = torch.load(pth_file_path, map_location=torch.device('cpu'))\n",
    "act_patching_tensor.requires_grad = False\n",
    "# Print the loaded tensor\n",
    "act_patching_tensor.shape\n",
    "\n",
    "graph_path = \"./inputs/adv-bias-3_EAP-IG-KL_step7000_6908edges.json\"\n",
    "g = Graph.from_json(graph_path)"
   ]
  },
  {
   "cell_type": "code",
   "execution_count": 4,
   "metadata": {},
   "outputs": [],
   "source": [
    "heatmap_dict = dict()\n",
    "\n",
    "for node_str in g.nodes:\n",
    "    node = g.nodes[node_str]\n",
    "    if node.in_graph and \"a\" in node_str:\n",
    "        heatmap_dict[node_str] = 0\n",
    "        for p_edge in node.parent_edges:\n",
    "            if p_edge.in_graph:\n",
    "                heatmap_dict[node_str] += p_edge.score\n",
    "        for c_edge in node.child_edges:\n",
    "            if c_edge.in_graph:\n",
    "                pass\n",
    "\n",
    "# Create a tensor to store the heatmap values\n",
    "heatmap_tensor = torch.zeros((16, 32))  # Assuming a maximum of 16 layers and 32 heads\n",
    "\n",
    "# Populate the tensor with values from heatmap_dict\n",
    "for key, value in heatmap_dict.items():\n",
    "    layer, head = map(int, key[1:].split('.h'))\n",
    "    heatmap_tensor[layer, head] = value"
   ]
  },
  {
   "cell_type": "code",
   "execution_count": 5,
   "metadata": {},
   "outputs": [
    {
     "data": {
      "application/vnd.plotly.v1+json": {
       "config": {
        "plotlyServerURL": "https://plot.ly"
       },
       "data": [
        {
         "colorbar": {
          "thickness": 20,
          "title": {
           "text": ""
          },
          "x": 0.46,
          "xanchor": "left"
         },
         "colorscale": [
          [
           0,
           "rgb(103,0,31)"
          ],
          [
           0.1,
           "rgb(178,24,43)"
          ],
          [
           0.2,
           "rgb(214,96,77)"
          ],
          [
           0.3,
           "rgb(244,165,130)"
          ],
          [
           0.4,
           "rgb(253,219,199)"
          ],
          [
           0.5,
           "rgb(247,247,247)"
          ],
          [
           0.6,
           "rgb(209,229,240)"
          ],
          [
           0.7,
           "rgb(146,197,222)"
          ],
          [
           0.8,
           "rgb(67,147,195)"
          ],
          [
           0.9,
           "rgb(33,102,172)"
          ],
          [
           1,
           "rgb(5,48,97)"
          ]
         ],
         "showscale": true,
         "type": "heatmap",
         "xaxis": "x",
         "yaxis": "y",
         "z": {
          "bdata": "Pl/HOTtebLuLRjW8YZhauzUIQTjt20K6xX4Iu7xQvTv+KZO6ulQKvNWy7Dpu+ME78S74ukKr/7pzuIk70pNuOx6oyrui3T478DzBOavAtDqm8Xi61N7kOjhvzDsLMNw6Yx+buoULlDqAIpI6bkZfOkZTFbpSr9q7CYQivL4EOrxzjRg8lua8u1U+4zkIqpm8Ie8PvL54sLs9vaG7sS8TvNMOPDwbdT87f1RIO/PpCLyVnBC8qElMO+Qe2bmkqBa8seusPM3Lh7zBEU074ss4vE8QcDyDhNe6gFKVOxAs47sPOw87Z0wgvA2WBDlitTW8kIXjOUJM2jsczAm8hz3HO+XMobux2Ai7j8EVu5pO37xfyJY7rFu0PDHUzbxXQiw8NlZ4O0CuVLsDCfm6/U8Cul5bx7tdykW78PFvPLT4OLxgxx88otxEu2ENYbkKcb06/VNvujVl3jrx5Wm8kHczu2DRjrzmjha8c1UHPa0GpTu4VeC7YjEXO9+OrLtZboe7hSVUO7xRQDzGxhE7cCEyPG1JlDzrVbe7aOGXPFdqGjyHjqg8McmkvPOrDzydZSY7ITuPuea73DpHurk6o4OWupVuDroUHrQ7dR+kvLQgsLywJDC8CV2IvJWJirxT2608qGqBuzC2xrruurM8gAU8vPn7lT2M2h68MjcovRfaeTywC7w7MNc/PWwJ87wLmt87+bwUvEq5SjyjWQy8a92uO9jdHTxNvtM7daa/vEg91Tw5jyC8GNAZPUZsA7xTwaE9DSzVPQSLhDxh7Fm7QJ0vvZD3fTuahIY8T12+vBmJMDuN2cY8Mr4cPAm6xLxzd1m8/l/POpsCQLs2DZw8bgfmPGkpKLs4xMM8wPYFPP5rGj3vjUs7zkQWPb5JgrxsG9+8nkEcPb9burxCcm27CA1Ju2D7nzyk8OY7APylu/O3MTxZN+O8J9LcPAYhmbyKwlo72AI8vTjkTj2p+nq8yyrLu3PRFLzrcAU92sRgu5AYD72hOA28dvT3vDzKEj1sZwo9JEedOi+NFz2K+t+74KEJPF4PNz3K6HG9GvPJPA0RDz0CsPo94hXDvMji0zsHIm88ykTLvCuDyDzUM3q8QYkuvBcH4bvXr648CisNvSclubuSE3Y83WDPPV8+trxAq248lKNHuvUMTD2+SRu9NlRuvK5JdTxEiLY8eJzjvEVywzzrMhU8Cf5EvXuoXb1ir149Z8aFPMr+h73sYoQ9i5JNPfUmmLw/zR49TP+hPDweoz1jkhA8bF9dPO7bWL0vuwM9X3MDvbOnTLz5yfW8kpp7u/GfJbzTNwU9c1LCvDMCXj3Hcns9bHp0vOsB0r1ab2y8RwXHPZp6M70VMwQ9l99VPOQd0rxSLew8QoRBPD6DQr3+oQm9SMpTvWUQCz5s6GC964T6vGcTjjs2M7C7sv6ZPENpfDwhSte9UWCNPZbYBD2zHd29qQaMPM2zNb6HC1s+Hg91vTEQaT1aVqM91wNHvDBxi71t2wQ9zssFO+TWRjwCVnK9/JeRPdDD7LwcuDo9gAltPfvsY725LWA9+e8kPCz0iL1e+Sa8/P4pPSBRSz1ZLKk9ygO1uUG6E7uceQI9J3OFPNU1YD3xinC8ZbnKvHlckb1lr5M8ilj3O2QmXD1HI7A8QeYDvRCXkT21nEC9QlCUOuVnzrzoCkM9C6XrPJhqMj3nZYC91Y3Yuwo8VT0a34S8+D9QPBsYEj2VWqw8UrDoPG/bGbzid0o83ObHvFRIhzzzyno9XuiGvc9M7Dywg+i88yIMPXasVb0HeEi99vsMvfXbLD2sF4Y8F1GOu01wvTyXVuk99iPWvTZjjT3lKJY9tx4EO5zL0DwH9om7O5YtO6mwmbvVafG7VTqcPB6upTzxXRE9RyBRPLLIHT0L+c+7uzVLPIDt2zsfJmM9WhrPPb7fDz3CV469o82gPZK++btTlr68LiI/vWu8ELzDWjI8uJncuw1fpjsx0bq7QCozPHjZDTz8JAq8q5dqvcTNkjxCOui83FBnu/31FrxVrpQ7rlhMPWwwybx2kDK8NyiRPaEltzzziKW9VdSHPWPiKzz7isU8udffPMgZ7ztkrgQ6jSosvcO1XLrD+4m8VOMLPPPJED34Veu7C+gOvdm5ozxLBym9TGaEPARQIz2L07I8g47WvADOQT2+9KO7LzE1vHeSL7zKknS7WQAfvB+3wD2K+5C8fsW6O1Jz4DvGnQo9gw0pO6Ta9zzn5ry7uUiiugmEu7x4LAm9UFBNPLVx9LvA86Q8nV0IviBOFD7maf47xO+DvYWPADveE1S8dJwzPZWsYL3Etog8wsE2PfCNoz0LH0A9b8XKPOwAoLz4sd08fM7FPccuTL0eFCM8sr+LvYXPFD3c1SO9S6AavsvlrTyPu9M7mZHevC++Ej03RbY9YXkrvQcemD0IkVW7uJXoO6LSxLv+kYM7BWUPvc64A7zQ7xu97Br9u6s5JD7+vwQ9TYlQOw6SMD0X8fa7Z/d0vNlI1D1kKKq9NoHNOwg5RTkRR7A+cxJtPPmjtz2mbnA9SSIHPousu7sQ2am9lw3XPA7dDj7xC/m9ltsWvJkpbL4NEBi8JVEGvDLeojxjz4S9GXgXvYoWXr0JVyY9AuqqPJpJdjxwKsK9KOhIvOixJT2o1BQ9ICAsPXvJMjyLyvM8CqyVPWqfgbxPWlQ+OGVavfmC87o0/JY8FcgAPGnhF72dMpG8XBW6t9TFmDw=",
          "dtype": "f4",
          "shape": "16, 32"
         },
         "zmid": 0
        },
        {
         "colorbar": {
          "thickness": 20,
          "title": {
           "text": ""
          },
          "x": 1.01,
          "xanchor": "left"
         },
         "colorscale": [
          [
           0,
           "rgb(103,0,31)"
          ],
          [
           0.1,
           "rgb(178,24,43)"
          ],
          [
           0.2,
           "rgb(214,96,77)"
          ],
          [
           0.3,
           "rgb(244,165,130)"
          ],
          [
           0.4,
           "rgb(253,219,199)"
          ],
          [
           0.5,
           "rgb(247,247,247)"
          ],
          [
           0.6,
           "rgb(209,229,240)"
          ],
          [
           0.7,
           "rgb(146,197,222)"
          ],
          [
           0.8,
           "rgb(67,147,195)"
          ],
          [
           0.9,
           "rgb(33,102,172)"
          ],
          [
           1,
           "rgb(5,48,97)"
          ]
         ],
         "showscale": true,
         "type": "heatmap",
         "xaxis": "x2",
         "yaxis": "y2",
         "z": {
          "bdata": "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",
          "dtype": "f4",
          "shape": "16, 32"
         },
         "zmid": 0
        }
       ],
       "layout": {
        "font": {
         "size": 14
        },
        "height": 500,
        "template": {
         "data": {
          "bar": [
           {
            "error_x": {
             "color": "#2a3f5f"
            },
            "error_y": {
             "color": "#2a3f5f"
            },
            "marker": {
             "line": {
              "color": "#E5ECF6",
              "width": 0.5
             },
             "pattern": {
              "fillmode": "overlay",
              "size": 10,
              "solidity": 0.2
             }
            },
            "type": "bar"
           }
          ],
          "barpolar": [
           {
            "marker": {
             "line": {
              "color": "#E5ECF6",
              "width": 0.5
             },
             "pattern": {
              "fillmode": "overlay",
              "size": 10,
              "solidity": 0.2
             }
            },
            "type": "barpolar"
           }
          ],
          "carpet": [
           {
            "aaxis": {
             "endlinecolor": "#2a3f5f",
             "gridcolor": "white",
             "linecolor": "white",
             "minorgridcolor": "white",
             "startlinecolor": "#2a3f5f"
            },
            "baxis": {
             "endlinecolor": "#2a3f5f",
             "gridcolor": "white",
             "linecolor": "white",
             "minorgridcolor": "white",
             "startlinecolor": "#2a3f5f"
            },
            "type": "carpet"
           }
          ],
          "choropleth": [
           {
            "colorbar": {
             "outlinewidth": 0,
             "ticks": ""
            },
            "type": "choropleth"
           }
          ],
          "contour": [
           {
            "colorbar": {
             "outlinewidth": 0,
             "ticks": ""
            },
            "colorscale": [
             [
              0,
              "#0d0887"
             ],
             [
              0.1111111111111111,
              "#46039f"
             ],
             [
              0.2222222222222222,
              "#7201a8"
             ],
             [
              0.3333333333333333,
              "#9c179e"
             ],
             [
              0.4444444444444444,
              "#bd3786"
             ],
             [
              0.5555555555555556,
              "#d8576b"
             ],
             [
              0.6666666666666666,
              "#ed7953"
             ],
             [
              0.7777777777777778,
              "#fb9f3a"
             ],
             [
              0.8888888888888888,
              "#fdca26"
             ],
             [
              1,
              "#f0f921"
             ]
            ],
            "type": "contour"
           }
          ],
          "contourcarpet": [
           {
            "colorbar": {
             "outlinewidth": 0,
             "ticks": ""
            },
            "type": "contourcarpet"
           }
          ],
          "heatmap": [
           {
            "colorbar": {
             "outlinewidth": 0,
             "ticks": ""
            },
            "colorscale": [
             [
              0,
              "#0d0887"
             ],
             [
              0.1111111111111111,
              "#46039f"
             ],
             [
              0.2222222222222222,
              "#7201a8"
             ],
             [
              0.3333333333333333,
              "#9c179e"
             ],
             [
              0.4444444444444444,
              "#bd3786"
             ],
             [
              0.5555555555555556,
              "#d8576b"
             ],
             [
              0.6666666666666666,
              "#ed7953"
             ],
             [
              0.7777777777777778,
              "#fb9f3a"
             ],
             [
              0.8888888888888888,
              "#fdca26"
             ],
             [
              1,
              "#f0f921"
             ]
            ],
            "type": "heatmap"
           }
          ],
          "histogram": [
           {
            "marker": {
             "pattern": {
              "fillmode": "overlay",
              "size": 10,
              "solidity": 0.2
             }
            },
            "type": "histogram"
           }
          ],
          "histogram2d": [
           {
            "colorbar": {
             "outlinewidth": 0,
             "ticks": ""
            },
            "colorscale": [
             [
              0,
              "#0d0887"
             ],
             [
              0.1111111111111111,
              "#46039f"
             ],
             [
              0.2222222222222222,
              "#7201a8"
             ],
             [
              0.3333333333333333,
              "#9c179e"
             ],
             [
              0.4444444444444444,
              "#bd3786"
             ],
             [
              0.5555555555555556,
              "#d8576b"
             ],
             [
              0.6666666666666666,
              "#ed7953"
             ],
             [
              0.7777777777777778,
              "#fb9f3a"
             ],
             [
              0.8888888888888888,
              "#fdca26"
             ],
             [
              1,
              "#f0f921"
             ]
            ],
            "type": "histogram2d"
           }
          ],
          "histogram2dcontour": [
           {
            "colorbar": {
             "outlinewidth": 0,
             "ticks": ""
            },
            "colorscale": [
             [
              0,
              "#0d0887"
             ],
             [
              0.1111111111111111,
              "#46039f"
             ],
             [
              0.2222222222222222,
              "#7201a8"
             ],
             [
              0.3333333333333333,
              "#9c179e"
             ],
             [
              0.4444444444444444,
              "#bd3786"
             ],
             [
              0.5555555555555556,
              "#d8576b"
             ],
             [
              0.6666666666666666,
              "#ed7953"
             ],
             [
              0.7777777777777778,
              "#fb9f3a"
             ],
             [
              0.8888888888888888,
              "#fdca26"
             ],
             [
              1,
              "#f0f921"
             ]
            ],
            "type": "histogram2dcontour"
           }
          ],
          "mesh3d": [
           {
            "colorbar": {
             "outlinewidth": 0,
             "ticks": ""
            },
            "type": "mesh3d"
           }
          ],
          "parcoords": [
           {
            "line": {
             "colorbar": {
              "outlinewidth": 0,
              "ticks": ""
             }
            },
            "type": "parcoords"
           }
          ],
          "pie": [
           {
            "automargin": true,
            "type": "pie"
           }
          ],
          "scatter": [
           {
            "fillpattern": {
             "fillmode": "overlay",
             "size": 10,
             "solidity": 0.2
            },
            "type": "scatter"
           }
          ],
          "scatter3d": [
           {
            "line": {
             "colorbar": {
              "outlinewidth": 0,
              "ticks": ""
             }
            },
            "marker": {
             "colorbar": {
              "outlinewidth": 0,
              "ticks": ""
             }
            },
            "type": "scatter3d"
           }
          ],
          "scattercarpet": [
           {
            "marker": {
             "colorbar": {
              "outlinewidth": 0,
              "ticks": ""
             }
            },
            "type": "scattercarpet"
           }
          ],
          "scattergeo": [
           {
            "marker": {
             "colorbar": {
              "outlinewidth": 0,
              "ticks": ""
             }
            },
            "type": "scattergeo"
           }
          ],
          "scattergl": [
           {
            "marker": {
             "colorbar": {
              "outlinewidth": 0,
              "ticks": ""
             }
            },
            "type": "scattergl"
           }
          ],
          "scattermap": [
           {
            "marker": {
             "colorbar": {
              "outlinewidth": 0,
              "ticks": ""
             }
            },
            "type": "scattermap"
           }
          ],
          "scattermapbox": [
           {
            "marker": {
             "colorbar": {
              "outlinewidth": 0,
              "ticks": ""
             }
            },
            "type": "scattermapbox"
           }
          ],
          "scatterpolar": [
           {
            "marker": {
             "colorbar": {
              "outlinewidth": 0,
              "ticks": ""
             }
            },
            "type": "scatterpolar"
           }
          ],
          "scatterpolargl": [
           {
            "marker": {
             "colorbar": {
              "outlinewidth": 0,
              "ticks": ""
             }
            },
            "type": "scatterpolargl"
           }
          ],
          "scatterternary": [
           {
            "marker": {
             "colorbar": {
              "outlinewidth": 0,
              "ticks": ""
             }
            },
            "type": "scatterternary"
           }
          ],
          "surface": [
           {
            "colorbar": {
             "outlinewidth": 0,
             "ticks": ""
            },
            "colorscale": [
             [
              0,
              "#0d0887"
             ],
             [
              0.1111111111111111,
              "#46039f"
             ],
             [
              0.2222222222222222,
              "#7201a8"
             ],
             [
              0.3333333333333333,
              "#9c179e"
             ],
             [
              0.4444444444444444,
              "#bd3786"
             ],
             [
              0.5555555555555556,
              "#d8576b"
             ],
             [
              0.6666666666666666,
              "#ed7953"
             ],
             [
              0.7777777777777778,
              "#fb9f3a"
             ],
             [
              0.8888888888888888,
              "#fdca26"
             ],
             [
              1,
              "#f0f921"
             ]
            ],
            "type": "surface"
           }
          ],
          "table": [
           {
            "cells": {
             "fill": {
              "color": "#EBF0F8"
             },
             "line": {
              "color": "white"
             }
            },
            "header": {
             "fill": {
              "color": "#C8D4E3"
             },
             "line": {
              "color": "white"
             }
            },
            "type": "table"
           }
          ]
         },
         "layout": {
          "annotationdefaults": {
           "arrowcolor": "#2a3f5f",
           "arrowhead": 0,
           "arrowwidth": 1
          },
          "autotypenumbers": "strict",
          "coloraxis": {
           "colorbar": {
            "outlinewidth": 0,
            "ticks": ""
           }
          },
          "colorscale": {
           "diverging": [
            [
             0,
             "#8e0152"
            ],
            [
             0.1,
             "#c51b7d"
            ],
            [
             0.2,
             "#de77ae"
            ],
            [
             0.3,
             "#f1b6da"
            ],
            [
             0.4,
             "#fde0ef"
            ],
            [
             0.5,
             "#f7f7f7"
            ],
            [
             0.6,
             "#e6f5d0"
            ],
            [
             0.7,
             "#b8e186"
            ],
            [
             0.8,
             "#7fbc41"
            ],
            [
             0.9,
             "#4d9221"
            ],
            [
             1,
             "#276419"
            ]
           ],
           "sequential": [
            [
             0,
             "#0d0887"
            ],
            [
             0.1111111111111111,
             "#46039f"
            ],
            [
             0.2222222222222222,
             "#7201a8"
            ],
            [
             0.3333333333333333,
             "#9c179e"
            ],
            [
             0.4444444444444444,
             "#bd3786"
            ],
            [
             0.5555555555555556,
             "#d8576b"
            ],
            [
             0.6666666666666666,
             "#ed7953"
            ],
            [
             0.7777777777777778,
             "#fb9f3a"
            ],
            [
             0.8888888888888888,
             "#fdca26"
            ],
            [
             1,
             "#f0f921"
            ]
           ],
           "sequentialminus": [
            [
             0,
             "#0d0887"
            ],
            [
             0.1111111111111111,
             "#46039f"
            ],
            [
             0.2222222222222222,
             "#7201a8"
            ],
            [
             0.3333333333333333,
             "#9c179e"
            ],
            [
             0.4444444444444444,
             "#bd3786"
            ],
            [
             0.5555555555555556,
             "#d8576b"
            ],
            [
             0.6666666666666666,
             "#ed7953"
            ],
            [
             0.7777777777777778,
             "#fb9f3a"
            ],
            [
             0.8888888888888888,
             "#fdca26"
            ],
            [
             1,
             "#f0f921"
            ]
           ]
          },
          "colorway": [
           "#636efa",
           "#EF553B",
           "#00cc96",
           "#ab63fa",
           "#FFA15A",
           "#19d3f3",
           "#FF6692",
           "#B6E880",
           "#FF97FF",
           "#FECB52"
          ],
          "font": {
           "color": "#2a3f5f"
          },
          "geo": {
           "bgcolor": "white",
           "lakecolor": "white",
           "landcolor": "#E5ECF6",
           "showlakes": true,
           "showland": true,
           "subunitcolor": "white"
          },
          "hoverlabel": {
           "align": "left"
          },
          "hovermode": "closest",
          "mapbox": {
           "style": "light"
          },
          "paper_bgcolor": "white",
          "plot_bgcolor": "#E5ECF6",
          "polar": {
           "angularaxis": {
            "gridcolor": "white",
            "linecolor": "white",
            "ticks": ""
           },
           "bgcolor": "#E5ECF6",
           "radialaxis": {
            "gridcolor": "white",
            "linecolor": "white",
            "ticks": ""
           }
          },
          "scene": {
           "xaxis": {
            "backgroundcolor": "#E5ECF6",
            "gridcolor": "white",
            "gridwidth": 2,
            "linecolor": "white",
            "showbackground": true,
            "ticks": "",
            "zerolinecolor": "white"
           },
           "yaxis": {
            "backgroundcolor": "#E5ECF6",
            "gridcolor": "white",
            "gridwidth": 2,
            "linecolor": "white",
            "showbackground": true,
            "ticks": "",
            "zerolinecolor": "white"
           },
           "zaxis": {
            "backgroundcolor": "#E5ECF6",
            "gridcolor": "white",
            "gridwidth": 2,
            "linecolor": "white",
            "showbackground": true,
            "ticks": "",
            "zerolinecolor": "white"
           }
          },
          "shapedefaults": {
           "line": {
            "color": "#2a3f5f"
           }
          },
          "ternary": {
           "aaxis": {
            "gridcolor": "white",
            "linecolor": "white",
            "ticks": ""
           },
           "baxis": {
            "gridcolor": "white",
            "linecolor": "white",
            "ticks": ""
           },
           "bgcolor": "#E5ECF6",
           "caxis": {
            "gridcolor": "white",
            "linecolor": "white",
            "ticks": ""
           }
          },
          "title": {
           "x": 0.05
          },
          "xaxis": {
           "automargin": true,
           "gridcolor": "white",
           "linecolor": "white",
           "ticks": "",
           "title": {
            "standoff": 15
           },
           "zerolinecolor": "white",
           "zerolinewidth": 2
          },
          "yaxis": {
           "automargin": true,
           "gridcolor": "white",
           "linecolor": "white",
           "ticks": "",
           "title": {
            "standoff": 15
           },
           "zerolinecolor": "white",
           "zerolinewidth": 2
          }
         }
        },
        "width": 1500,
        "xaxis": {
         "anchor": "y",
         "domain": [
          0,
          0.45
         ],
         "title": {
          "text": "Head"
         }
        },
        "xaxis2": {
         "anchor": "y2",
         "domain": [
          0.55,
          1
         ],
         "title": {
          "text": "Head"
         }
        },
        "yaxis": {
         "anchor": "x",
         "autorange": "reversed",
         "domain": [
          0,
          1
         ],
         "title": {
          "text": "Layer"
         }
        },
        "yaxis2": {
         "anchor": "x2",
         "autorange": "reversed",
         "domain": [
          0,
          1
         ],
         "title": {
          "text": "Layer"
         }
        }
       }
      }
     },
     "metadata": {},
     "output_type": "display_data"
    }
   ],
   "source": [
    "tensor1 = act_patching_tensor\n",
    "tensor2 = heatmap_tensor\n",
    "\n",
    "fig = make_subplots(\n",
    "    rows=1, cols=2,\n",
    "    horizontal_spacing=0.05, \n",
    "    subplot_titles=(\"\", \"\"),\n",
    ")\n",
    "\n",
    "# Left heatmap\n",
    "fig.add_trace(\n",
    "    go.Heatmap(\n",
    "        z=tensor1.numpy(),\n",
    "        colorscale=\"RdBu\",\n",
    "        zmid=0,\n",
    "        showscale=True,\n",
    "        colorbar=dict(\n",
    "            title=\"\",\n",
    "            thickness=20,\n",
    "            # Position the left colorbar a bit to the right of the left domain\n",
    "            x=0.46,        # 0 = far left, 1 = far right\n",
    "            xanchor=\"left\"\n",
    "        ),\n",
    "    ),\n",
    "    row=1, col=1\n",
    ")\n",
    "\n",
    "# Right heatmap\n",
    "fig.add_trace(\n",
    "    go.Heatmap(\n",
    "        z=tensor2.numpy(),\n",
    "        colorscale=\"RdBu\",\n",
    "        zmid=0,\n",
    "        showscale=True,\n",
    "        colorbar=dict(\n",
    "            title=\"\",\n",
    "            thickness=20,\n",
    "            # Place the right colorbar well to the right\n",
    "            x=1.01,\n",
    "            xanchor=\"left\"\n",
    "        ),\n",
    "    ),\n",
    "    row=1, col=2\n",
    ")\n",
    "\n",
    "# -- Make the left subplot narrower and shifted left\n",
    "fig.update_xaxes(domain=[0.0, 0.45], row=1, col=1)  # 30% of total width\n",
    "# -- Shift the right subplot further right\n",
    "fig.update_xaxes(domain=[0.55, 1.0], row=1, col=2) # starts at 0.45, ends at 0.8\n",
    "\n",
    "fig.update_yaxes(title_text=\"Layer\", row=1, col=1)\n",
    "fig.update_yaxes(title_text=\"Layer\", row=1, col=2)\n",
    "fig.update_xaxes(title_text=\"Head\", row=1, col=1)\n",
    "fig.update_xaxes(title_text=\"Head\", row=1, col=2)\n",
    "fig.update_yaxes(autorange=\"reversed\", row=1, col=1)\n",
    "fig.update_yaxes(autorange=\"reversed\", row=1, col=2)\n",
    "\n",
    "fig.update_layout(\n",
    "    width=1500,                # <--- Force a smaller figure width in pixels\n",
    "    height=500,\n",
    "    font=dict(size=14)\n",
    ")\n",
    "fig.show()\n",
    "\n",
    "fig.write_image(\"./outputs/bias_heatmap.svg\")"
   ]
  },
  {
   "cell_type": "markdown",
   "metadata": {},
   "source": [
    "### Toxicity heatmaps"
   ]
  },
  {
   "cell_type": "code",
   "execution_count": 6,
   "metadata": {},
   "outputs": [
    {
     "name": "stderr",
     "output_type": "stream",
     "text": [
      "/var/folders/ts/2_ky83950p3_q8mq0075gb1c0000gn/T/ipykernel_7820/3710562005.py:5: FutureWarning:\n",
      "\n",
      "You are using `torch.load` with `weights_only=False` (the current default value), which uses the default pickle module implicitly. It is possible to construct malicious pickle data which will execute arbitrary code during unpickling (See https://github.com/pytorch/pytorch/blob/main/SECURITY.md#untrusted-models for more details). In a future release, the default value for `weights_only` will be flipped to `True`. This limits the functions that could be executed during unpickling. Arbitrary objects will no longer be allowed to be loaded via this mode unless they are explicitly allowlisted by the user via `torch.serialization.add_safe_globals`. We recommend you start setting `weights_only=True` for any use case where you don't have full control of the loaded file. Please open an issue on GitHub for any issues related to this experimental feature.\n",
      "\n"
     ]
    }
   ],
   "source": [
    "# Specify the path to the .pth file\n",
    "pth_file_path = './inputs/final_toxicity_tensor_0.pth'\n",
    "\n",
    "# Load the tensor from the .pth file\n",
    "act_patching_tensor = torch.load(pth_file_path, map_location=torch.device('cpu'))\n",
    "act_patching_tensor.requires_grad = False\n",
    "# Print the loaded tensor\n",
    "act_patching_tensor.shape\n",
    "\n",
    "# load graph\n",
    "graph_path = \"./inputs/toxicity-samp_EAP-IG_step19000_18922edges.json\"\n",
    "g = Graph.from_json(graph_path)"
   ]
  },
  {
   "cell_type": "code",
   "execution_count": 7,
   "metadata": {},
   "outputs": [],
   "source": [
    "heatmap_dict = dict()\n",
    "\n",
    "for node_str in g.nodes:\n",
    "    node = g.nodes[node_str]\n",
    "    if node.in_graph and \"a\" in node_str:\n",
    "        heatmap_dict[node_str] = 0\n",
    "        for p_edge in node.parent_edges:\n",
    "            if p_edge.in_graph:\n",
    "                heatmap_dict[node_str] += p_edge.score\n",
    "        for c_edge in node.child_edges:\n",
    "            if c_edge.in_graph:\n",
    "                pass\n",
    "\n",
    "# Create a tensor to store the heatmap values\n",
    "heatmap_tensor = torch.zeros((16, 32))  # Assuming a maximum of 16 layers and 32 heads\n",
    "\n",
    "# Populate the tensor with values from heatmap_dict\n",
    "for key, value in heatmap_dict.items():\n",
    "    layer, head = map(int, key[1:].split('.h'))\n",
    "    heatmap_tensor[layer, head] = value"
   ]
  },
  {
   "cell_type": "code",
   "execution_count": 8,
   "metadata": {},
   "outputs": [
    {
     "data": {
      "application/vnd.plotly.v1+json": {
       "config": {
        "plotlyServerURL": "https://plot.ly"
       },
       "data": [
        {
         "colorbar": {
          "thickness": 20,
          "title": {
           "text": ""
          },
          "x": 0.46,
          "xanchor": "left"
         },
         "colorscale": [
          [
           0,
           "rgb(103,0,31)"
          ],
          [
           0.1,
           "rgb(178,24,43)"
          ],
          [
           0.2,
           "rgb(214,96,77)"
          ],
          [
           0.3,
           "rgb(244,165,130)"
          ],
          [
           0.4,
           "rgb(253,219,199)"
          ],
          [
           0.5,
           "rgb(247,247,247)"
          ],
          [
           0.6,
           "rgb(209,229,240)"
          ],
          [
           0.7,
           "rgb(146,197,222)"
          ],
          [
           0.8,
           "rgb(67,147,195)"
          ],
          [
           0.9,
           "rgb(33,102,172)"
          ],
          [
           1,
           "rgb(5,48,97)"
          ]
         ],
         "showscale": true,
         "type": "heatmap",
         "xaxis": "x",
         "yaxis": "y",
         "z": {
          "bdata": "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",
          "dtype": "f4",
          "shape": "16, 32"
         },
         "zmid": 0
        },
        {
         "colorbar": {
          "thickness": 20,
          "title": {
           "text": ""
          },
          "x": 1.01,
          "xanchor": "left"
         },
         "colorscale": [
          [
           0,
           "rgb(103,0,31)"
          ],
          [
           0.1,
           "rgb(178,24,43)"
          ],
          [
           0.2,
           "rgb(214,96,77)"
          ],
          [
           0.3,
           "rgb(244,165,130)"
          ],
          [
           0.4,
           "rgb(253,219,199)"
          ],
          [
           0.5,
           "rgb(247,247,247)"
          ],
          [
           0.6,
           "rgb(209,229,240)"
          ],
          [
           0.7,
           "rgb(146,197,222)"
          ],
          [
           0.8,
           "rgb(67,147,195)"
          ],
          [
           0.9,
           "rgb(33,102,172)"
          ],
          [
           1,
           "rgb(5,48,97)"
          ]
         ],
         "showscale": true,
         "type": "heatmap",
         "xaxis": "x2",
         "yaxis": "y2",
         "z": {
          "bdata": "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",
          "dtype": "f4",
          "shape": "16, 32"
         },
         "zmid": 0
        }
       ],
       "layout": {
        "font": {
         "size": 14
        },
        "height": 500,
        "template": {
         "data": {
          "bar": [
           {
            "error_x": {
             "color": "#2a3f5f"
            },
            "error_y": {
             "color": "#2a3f5f"
            },
            "marker": {
             "line": {
              "color": "#E5ECF6",
              "width": 0.5
             },
             "pattern": {
              "fillmode": "overlay",
              "size": 10,
              "solidity": 0.2
             }
            },
            "type": "bar"
           }
          ],
          "barpolar": [
           {
            "marker": {
             "line": {
              "color": "#E5ECF6",
              "width": 0.5
             },
             "pattern": {
              "fillmode": "overlay",
              "size": 10,
              "solidity": 0.2
             }
            },
            "type": "barpolar"
           }
          ],
          "carpet": [
           {
            "aaxis": {
             "endlinecolor": "#2a3f5f",
             "gridcolor": "white",
             "linecolor": "white",
             "minorgridcolor": "white",
             "startlinecolor": "#2a3f5f"
            },
            "baxis": {
             "endlinecolor": "#2a3f5f",
             "gridcolor": "white",
             "linecolor": "white",
             "minorgridcolor": "white",
             "startlinecolor": "#2a3f5f"
            },
            "type": "carpet"
           }
          ],
          "choropleth": [
           {
            "colorbar": {
             "outlinewidth": 0,
             "ticks": ""
            },
            "type": "choropleth"
           }
          ],
          "contour": [
           {
            "colorbar": {
             "outlinewidth": 0,
             "ticks": ""
            },
            "colorscale": [
             [
              0,
              "#0d0887"
             ],
             [
              0.1111111111111111,
              "#46039f"
             ],
             [
              0.2222222222222222,
              "#7201a8"
             ],
             [
              0.3333333333333333,
              "#9c179e"
             ],
             [
              0.4444444444444444,
              "#bd3786"
             ],
             [
              0.5555555555555556,
              "#d8576b"
             ],
             [
              0.6666666666666666,
              "#ed7953"
             ],
             [
              0.7777777777777778,
              "#fb9f3a"
             ],
             [
              0.8888888888888888,
              "#fdca26"
             ],
             [
              1,
              "#f0f921"
             ]
            ],
            "type": "contour"
           }
          ],
          "contourcarpet": [
           {
            "colorbar": {
             "outlinewidth": 0,
             "ticks": ""
            },
            "type": "contourcarpet"
           }
          ],
          "heatmap": [
           {
            "colorbar": {
             "outlinewidth": 0,
             "ticks": ""
            },
            "colorscale": [
             [
              0,
              "#0d0887"
             ],
             [
              0.1111111111111111,
              "#46039f"
             ],
             [
              0.2222222222222222,
              "#7201a8"
             ],
             [
              0.3333333333333333,
              "#9c179e"
             ],
             [
              0.4444444444444444,
              "#bd3786"
             ],
             [
              0.5555555555555556,
              "#d8576b"
             ],
             [
              0.6666666666666666,
              "#ed7953"
             ],
             [
              0.7777777777777778,
              "#fb9f3a"
             ],
             [
              0.8888888888888888,
              "#fdca26"
             ],
             [
              1,
              "#f0f921"
             ]
            ],
            "type": "heatmap"
           }
          ],
          "histogram": [
           {
            "marker": {
             "pattern": {
              "fillmode": "overlay",
              "size": 10,
              "solidity": 0.2
             }
            },
            "type": "histogram"
           }
          ],
          "histogram2d": [
           {
            "colorbar": {
             "outlinewidth": 0,
             "ticks": ""
            },
            "colorscale": [
             [
              0,
              "#0d0887"
             ],
             [
              0.1111111111111111,
              "#46039f"
             ],
             [
              0.2222222222222222,
              "#7201a8"
             ],
             [
              0.3333333333333333,
              "#9c179e"
             ],
             [
              0.4444444444444444,
              "#bd3786"
             ],
             [
              0.5555555555555556,
              "#d8576b"
             ],
             [
              0.6666666666666666,
              "#ed7953"
             ],
             [
              0.7777777777777778,
              "#fb9f3a"
             ],
             [
              0.8888888888888888,
              "#fdca26"
             ],
             [
              1,
              "#f0f921"
             ]
            ],
            "type": "histogram2d"
           }
          ],
          "histogram2dcontour": [
           {
            "colorbar": {
             "outlinewidth": 0,
             "ticks": ""
            },
            "colorscale": [
             [
              0,
              "#0d0887"
             ],
             [
              0.1111111111111111,
              "#46039f"
             ],
             [
              0.2222222222222222,
              "#7201a8"
             ],
             [
              0.3333333333333333,
              "#9c179e"
             ],
             [
              0.4444444444444444,
              "#bd3786"
             ],
             [
              0.5555555555555556,
              "#d8576b"
             ],
             [
              0.6666666666666666,
              "#ed7953"
             ],
             [
              0.7777777777777778,
              "#fb9f3a"
             ],
             [
              0.8888888888888888,
              "#fdca26"
             ],
             [
              1,
              "#f0f921"
             ]
            ],
            "type": "histogram2dcontour"
           }
          ],
          "mesh3d": [
           {
            "colorbar": {
             "outlinewidth": 0,
             "ticks": ""
            },
            "type": "mesh3d"
           }
          ],
          "parcoords": [
           {
            "line": {
             "colorbar": {
              "outlinewidth": 0,
              "ticks": ""
             }
            },
            "type": "parcoords"
           }
          ],
          "pie": [
           {
            "automargin": true,
            "type": "pie"
           }
          ],
          "scatter": [
           {
            "fillpattern": {
             "fillmode": "overlay",
             "size": 10,
             "solidity": 0.2
            },
            "type": "scatter"
           }
          ],
          "scatter3d": [
           {
            "line": {
             "colorbar": {
              "outlinewidth": 0,
              "ticks": ""
             }
            },
            "marker": {
             "colorbar": {
              "outlinewidth": 0,
              "ticks": ""
             }
            },
            "type": "scatter3d"
           }
          ],
          "scattercarpet": [
           {
            "marker": {
             "colorbar": {
              "outlinewidth": 0,
              "ticks": ""
             }
            },
            "type": "scattercarpet"
           }
          ],
          "scattergeo": [
           {
            "marker": {
             "colorbar": {
              "outlinewidth": 0,
              "ticks": ""
             }
            },
            "type": "scattergeo"
           }
          ],
          "scattergl": [
           {
            "marker": {
             "colorbar": {
              "outlinewidth": 0,
              "ticks": ""
             }
            },
            "type": "scattergl"
           }
          ],
          "scattermap": [
           {
            "marker": {
             "colorbar": {
              "outlinewidth": 0,
              "ticks": ""
             }
            },
            "type": "scattermap"
           }
          ],
          "scattermapbox": [
           {
            "marker": {
             "colorbar": {
              "outlinewidth": 0,
              "ticks": ""
             }
            },
            "type": "scattermapbox"
           }
          ],
          "scatterpolar": [
           {
            "marker": {
             "colorbar": {
              "outlinewidth": 0,
              "ticks": ""
             }
            },
            "type": "scatterpolar"
           }
          ],
          "scatterpolargl": [
           {
            "marker": {
             "colorbar": {
              "outlinewidth": 0,
              "ticks": ""
             }
            },
            "type": "scatterpolargl"
           }
          ],
          "scatterternary": [
           {
            "marker": {
             "colorbar": {
              "outlinewidth": 0,
              "ticks": ""
             }
            },
            "type": "scatterternary"
           }
          ],
          "surface": [
           {
            "colorbar": {
             "outlinewidth": 0,
             "ticks": ""
            },
            "colorscale": [
             [
              0,
              "#0d0887"
             ],
             [
              0.1111111111111111,
              "#46039f"
             ],
             [
              0.2222222222222222,
              "#7201a8"
             ],
             [
              0.3333333333333333,
              "#9c179e"
             ],
             [
              0.4444444444444444,
              "#bd3786"
             ],
             [
              0.5555555555555556,
              "#d8576b"
             ],
             [
              0.6666666666666666,
              "#ed7953"
             ],
             [
              0.7777777777777778,
              "#fb9f3a"
             ],
             [
              0.8888888888888888,
              "#fdca26"
             ],
             [
              1,
              "#f0f921"
             ]
            ],
            "type": "surface"
           }
          ],
          "table": [
           {
            "cells": {
             "fill": {
              "color": "#EBF0F8"
             },
             "line": {
              "color": "white"
             }
            },
            "header": {
             "fill": {
              "color": "#C8D4E3"
             },
             "line": {
              "color": "white"
             }
            },
            "type": "table"
           }
          ]
         },
         "layout": {
          "annotationdefaults": {
           "arrowcolor": "#2a3f5f",
           "arrowhead": 0,
           "arrowwidth": 1
          },
          "autotypenumbers": "strict",
          "coloraxis": {
           "colorbar": {
            "outlinewidth": 0,
            "ticks": ""
           }
          },
          "colorscale": {
           "diverging": [
            [
             0,
             "#8e0152"
            ],
            [
             0.1,
             "#c51b7d"
            ],
            [
             0.2,
             "#de77ae"
            ],
            [
             0.3,
             "#f1b6da"
            ],
            [
             0.4,
             "#fde0ef"
            ],
            [
             0.5,
             "#f7f7f7"
            ],
            [
             0.6,
             "#e6f5d0"
            ],
            [
             0.7,
             "#b8e186"
            ],
            [
             0.8,
             "#7fbc41"
            ],
            [
             0.9,
             "#4d9221"
            ],
            [
             1,
             "#276419"
            ]
           ],
           "sequential": [
            [
             0,
             "#0d0887"
            ],
            [
             0.1111111111111111,
             "#46039f"
            ],
            [
             0.2222222222222222,
             "#7201a8"
            ],
            [
             0.3333333333333333,
             "#9c179e"
            ],
            [
             0.4444444444444444,
             "#bd3786"
            ],
            [
             0.5555555555555556,
             "#d8576b"
            ],
            [
             0.6666666666666666,
             "#ed7953"
            ],
            [
             0.7777777777777778,
             "#fb9f3a"
            ],
            [
             0.8888888888888888,
             "#fdca26"
            ],
            [
             1,
             "#f0f921"
            ]
           ],
           "sequentialminus": [
            [
             0,
             "#0d0887"
            ],
            [
             0.1111111111111111,
             "#46039f"
            ],
            [
             0.2222222222222222,
             "#7201a8"
            ],
            [
             0.3333333333333333,
             "#9c179e"
            ],
            [
             0.4444444444444444,
             "#bd3786"
            ],
            [
             0.5555555555555556,
             "#d8576b"
            ],
            [
             0.6666666666666666,
             "#ed7953"
            ],
            [
             0.7777777777777778,
             "#fb9f3a"
            ],
            [
             0.8888888888888888,
             "#fdca26"
            ],
            [
             1,
             "#f0f921"
            ]
           ]
          },
          "colorway": [
           "#636efa",
           "#EF553B",
           "#00cc96",
           "#ab63fa",
           "#FFA15A",
           "#19d3f3",
           "#FF6692",
           "#B6E880",
           "#FF97FF",
           "#FECB52"
          ],
          "font": {
           "color": "#2a3f5f"
          },
          "geo": {
           "bgcolor": "white",
           "lakecolor": "white",
           "landcolor": "#E5ECF6",
           "showlakes": true,
           "showland": true,
           "subunitcolor": "white"
          },
          "hoverlabel": {
           "align": "left"
          },
          "hovermode": "closest",
          "mapbox": {
           "style": "light"
          },
          "paper_bgcolor": "white",
          "plot_bgcolor": "#E5ECF6",
          "polar": {
           "angularaxis": {
            "gridcolor": "white",
            "linecolor": "white",
            "ticks": ""
           },
           "bgcolor": "#E5ECF6",
           "radialaxis": {
            "gridcolor": "white",
            "linecolor": "white",
            "ticks": ""
           }
          },
          "scene": {
           "xaxis": {
            "backgroundcolor": "#E5ECF6",
            "gridcolor": "white",
            "gridwidth": 2,
            "linecolor": "white",
            "showbackground": true,
            "ticks": "",
            "zerolinecolor": "white"
           },
           "yaxis": {
            "backgroundcolor": "#E5ECF6",
            "gridcolor": "white",
            "gridwidth": 2,
            "linecolor": "white",
            "showbackground": true,
            "ticks": "",
            "zerolinecolor": "white"
           },
           "zaxis": {
            "backgroundcolor": "#E5ECF6",
            "gridcolor": "white",
            "gridwidth": 2,
            "linecolor": "white",
            "showbackground": true,
            "ticks": "",
            "zerolinecolor": "white"
           }
          },
          "shapedefaults": {
           "line": {
            "color": "#2a3f5f"
           }
          },
          "ternary": {
           "aaxis": {
            "gridcolor": "white",
            "linecolor": "white",
            "ticks": ""
           },
           "baxis": {
            "gridcolor": "white",
            "linecolor": "white",
            "ticks": ""
           },
           "bgcolor": "#E5ECF6",
           "caxis": {
            "gridcolor": "white",
            "linecolor": "white",
            "ticks": ""
           }
          },
          "title": {
           "x": 0.05
          },
          "xaxis": {
           "automargin": true,
           "gridcolor": "white",
           "linecolor": "white",
           "ticks": "",
           "title": {
            "standoff": 15
           },
           "zerolinecolor": "white",
           "zerolinewidth": 2
          },
          "yaxis": {
           "automargin": true,
           "gridcolor": "white",
           "linecolor": "white",
           "ticks": "",
           "title": {
            "standoff": 15
           },
           "zerolinecolor": "white",
           "zerolinewidth": 2
          }
         }
        },
        "width": 1500,
        "xaxis": {
         "anchor": "y",
         "domain": [
          0,
          0.45
         ],
         "title": {
          "text": "Head"
         }
        },
        "xaxis2": {
         "anchor": "y2",
         "domain": [
          0.55,
          1
         ],
         "title": {
          "text": "Head"
         }
        },
        "yaxis": {
         "anchor": "x",
         "autorange": "reversed",
         "domain": [
          0,
          1
         ],
         "title": {
          "text": "Layer"
         }
        },
        "yaxis2": {
         "anchor": "x2",
         "autorange": "reversed",
         "domain": [
          0,
          1
         ],
         "title": {
          "text": "Layer"
         }
        }
       }
      }
     },
     "metadata": {},
     "output_type": "display_data"
    }
   ],
   "source": [
    "tensor1 = act_patching_tensor\n",
    "tensor2 = heatmap_tensor\n",
    "\n",
    "fig = make_subplots(\n",
    "    rows=1, cols=2,\n",
    "    horizontal_spacing=0.05, \n",
    "    subplot_titles=(\"\", \"\"),\n",
    ")\n",
    "\n",
    "# Left heatmap\n",
    "fig.add_trace(\n",
    "    go.Heatmap(\n",
    "        z=tensor1.numpy(),\n",
    "        colorscale=\"RdBu\",\n",
    "        zmid=0,\n",
    "        showscale=True,\n",
    "        colorbar=dict(\n",
    "            title=\"\",\n",
    "            thickness=20,\n",
    "            # Position the left colorbar a bit to the right of the left domain\n",
    "            x=0.46,        # 0 = far left, 1 = far right\n",
    "            xanchor=\"left\"\n",
    "        ),\n",
    "    ),\n",
    "    row=1, col=1\n",
    ")\n",
    "\n",
    "# Right heatmap\n",
    "fig.add_trace(\n",
    "    go.Heatmap(\n",
    "        z=tensor2.numpy(),\n",
    "        colorscale=\"RdBu\",\n",
    "        zmid=0,\n",
    "        showscale=True,\n",
    "        colorbar=dict(\n",
    "            title=\"\",\n",
    "            thickness=20,\n",
    "            # Place the right colorbar well to the right\n",
    "            x=1.01,\n",
    "            xanchor=\"left\"\n",
    "        ),\n",
    "    ),\n",
    "    row=1, col=2\n",
    ")\n",
    "\n",
    "# -- Make the left subplot narrower and shifted left\n",
    "fig.update_xaxes(domain=[0.0, 0.45], row=1, col=1)  # 30% of total width\n",
    "# -- Shift the right subplot further right\n",
    "fig.update_xaxes(domain=[0.55, 1.0], row=1, col=2) # starts at 0.45, ends at 0.8\n",
    "\n",
    "fig.update_yaxes(title_text=\"Layer\", row=1, col=1)\n",
    "fig.update_yaxes(title_text=\"Layer\", row=1, col=2)\n",
    "fig.update_xaxes(title_text=\"Head\", row=1, col=1)\n",
    "fig.update_xaxes(title_text=\"Head\", row=1, col=2)\n",
    "fig.update_yaxes(autorange=\"reversed\", row=1, col=1)\n",
    "fig.update_yaxes(autorange=\"reversed\", row=1, col=2)\n",
    "\n",
    "fig.update_layout(\n",
    "    width=1500,                # <--- Force a smaller figure width in pixels\n",
    "    height=500,\n",
    "    font=dict(size=14)\n",
    ")\n",
    "fig.show()\n",
    "fig.write_image(\"./outputs/toxicity_heatmap.svg\")"
   ]
  },
  {
   "cell_type": "markdown",
   "metadata": {},
   "source": [
    "# Debiasing graphs"
   ]
  },
  {
   "cell_type": "code",
   "execution_count": 11,
   "metadata": {},
   "outputs": [
    {
     "name": "stdout",
     "output_type": "stream",
     "text": [
      "number of common edges: 4718\n",
      "number of edges before pruning dead nodes: 2190\n",
      "number of edges after pruning dead nodes: 1253\n"
     ]
    }
   ],
   "source": [
    "toxicity_graph_path = \"./inputs/toxicity-samp_EAP-IG_step19000_18922edges.json\"\n",
    "bias_graph_path = \"./inputs/adv-bias-3_EAP-IG-KL_step7000_6908edges.json\"\n",
    "\n",
    "toxicity_graph = Graph.from_json(toxicity_graph_path)\n",
    "bias_graph = Graph.from_json(bias_graph_path)\n",
    "ablated_bias = Graph.from_json(bias_graph_path)\n",
    "\n",
    "num_edges = 0\n",
    "for node_str in bias_graph.nodes:\n",
    "    toxicity_node = toxicity_graph.nodes[node_str]\n",
    "    bias_node = bias_graph.nodes[node_str]\n",
    "    ablated_bias_node = ablated_bias.nodes[node_str]\n",
    "    \n",
    "    for bias_edge, toxicity_edge, ablated_bias_edge in zip(bias_node.parent_edges, toxicity_node.parent_edges, ablated_bias_node.parent_edges):\n",
    "        assert bias_edge.name == toxicity_edge.name == ablated_bias_edge.name\n",
    "        # keeping edge in bias and not in toxicity\n",
    "        if bias_edge.in_graph and toxicity_edge.in_graph:\n",
    "            num_edges += 1\n",
    "            ablated_bias_edge.in_graph = False\n",
    "\n",
    "print(\"number of common edges:\", num_edges)\n",
    "print(\"number of edges before pruning dead nodes:\", edge_counter(ablated_bias))\n",
    "ablated_bias.prune_dead_nodes(prune_childless=True, prune_parentless=True)\n",
    "print(\"number of edges after pruning dead nodes:\", edge_counter(ablated_bias))\n",
    "\n",
    "ablated_bias.to_json(\"./outputs/ablated_bias-3_EAP-IG-KL_step7000_6908edges_toxicity-samp_EAP-IG_step19000_18922edges.json\")"
   ]
  },
  {
   "cell_type": "code",
   "execution_count": 12,
   "metadata": {},
   "outputs": [
    {
     "name": "stdout",
     "output_type": "stream",
     "text": [
      "check empty graph has no edges: 0\n"
     ]
    }
   ],
   "source": [
    "# turn all edges in bias circuit off to create empty graph\n",
    "false_bias = Graph.from_json(bias_graph_path)\n",
    "num_edges = 0\n",
    "for node_str in bias_graph.nodes:\n",
    "    toxicity_node = toxicity_graph.nodes[node_str]\n",
    "    bias_node = bias_graph.nodes[node_str]\n",
    "    ablated_bias_node = false_bias.nodes[node_str]\n",
    "    \n",
    "    for bias_edge, toxicity_edge, ablated_bias_edge in zip(bias_node.parent_edges, toxicity_node.parent_edges, ablated_bias_node.parent_edges):\n",
    "        assert bias_edge.name == toxicity_edge.name == ablated_bias_edge.name\n",
    "        num_edges += 1\n",
    "        ablated_bias_edge.in_graph = False\n",
    "\n",
    "print(\"check empty graph has no edges:\", edge_counter(false_bias))\n",
    "false_bias.to_json(\"./outputs/no_edges_bias.json\")"
   ]
  }
 ],
 "metadata": {
  "kernelspec": {
   "display_name": "eapig",
   "language": "python",
   "name": "python3"
  },
  "language_info": {
   "codemirror_mode": {
    "name": "ipython",
    "version": 3
   },
   "file_extension": ".py",
   "mimetype": "text/x-python",
   "name": "python",
   "nbconvert_exporter": "python",
   "pygments_lexer": "ipython3",
   "version": "3.10.12"
  }
 },
 "nbformat": 4,
 "nbformat_minor": 2
}
