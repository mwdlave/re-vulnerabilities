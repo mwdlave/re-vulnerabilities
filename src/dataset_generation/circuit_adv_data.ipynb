{
 "cells": [
  {
   "cell_type": "code",
   "execution_count": null,
   "metadata": {},
   "outputs": [],
   "source": [
    "# when using google colab, uncomment the following lines:\n",
    "# from google.colab import drive\n",
    "# drive.mount('/content/drive')\n",
    "# !cp -r /content/drive/MyDrive/Uva/data/outputs/ /content/\n",
    "# !pip install -r /content/drive/MyDrive/Uva/requirements.txt\n",
    "# !pip install --force-reinstall --no-deps  git+https://github.com/neelnanda-io/TransformerLens/"
   ]
  },
  {
   "cell_type": "code",
   "execution_count": null,
   "metadata": {},
   "outputs": [],
   "source": [
    "from transformer_lens import HookedTransformer\n",
    "from huggingface_hub import login\n",
    "from src.utils.file_utils import load_files_named, filter_adv_org_samples\n",
    "import pandas as pd\n",
    "\n",
    "login(token='')"
   ]
  },
  {
   "cell_type": "code",
   "execution_count": 1,
   "metadata": {},
   "outputs": [],
   "source": [
    "\n",
    "output_folder = 'work/outputs'\n",
    "\n",
    "adv_sample_1 = load_files_named(output_folder, file_starts_with='adv_sample_1_3',if_gpu=False)\n",
    "org_sample_1 = load_files_named(output_folder, file_starts_with='org_sample_1_3',if_gpu=False)\n",
    "\n",
    "adv_sample = load_files_named(output_folder, file_starts_with='adv_sample_3',if_gpu=False)\n",
    "org_sample = load_files_named(output_folder, file_starts_with='org_sample_3',if_gpu=False)"
   ]
  },
  {
   "cell_type": "code",
   "execution_count": 2,
   "metadata": {},
   "outputs": [
    {
     "data": {
      "text/plain": [
       "(27, 27, 24, 24)"
      ]
     },
     "execution_count": 2,
     "metadata": {},
     "output_type": "execute_result"
    }
   ],
   "source": [
    "len(adv_sample_1), len(org_sample_1), len(adv_sample), len(org_sample)"
   ]
  },
  {
   "cell_type": "code",
   "execution_count": 7,
   "metadata": {},
   "outputs": [],
   "source": [
    "unique_adv_1, unique_org_1  = filter_adv_org_samples(adv_sample_1, org_sample_1)\n",
    "unique_adv, unique_org = filter_adv_org_samples(adv_sample, org_sample)"
   ]
  },
  {
   "cell_type": "code",
   "execution_count": null,
   "metadata": {},
   "outputs": [],
   "source": [
    "unique_adv.shape, unique_org.shape, unique_adv_1.shape, unique_org_1.shape"
   ]
  },
  {
   "cell_type": "code",
   "execution_count": null,
   "metadata": {},
   "outputs": [],
   "source": [
    "model = HookedTransformer.from_pretrained(\n",
    "    \"meta-llama/Llama-3.2-1B-Instruct\",\n",
    "    center_unembed=True,\n",
    "    center_writing_weights=True,\n",
    "    fold_ln=True,\n",
    "    #default_prepend_bos = False\n",
    "    # refactor_factored_attn_matrices=True\n",
    ")"
   ]
  },
  {
   "cell_type": "code",
   "execution_count": 10,
   "metadata": {},
   "outputs": [],
   "source": [
    "cols = ['org_str','adv_str', 'org_label', 'adv_label']\n",
    "\n",
    "org_str = model.to_string(unique_org)\n",
    "org_str += model.to_string(unique_org_1)\n",
    "adv_str = model.to_string(unique_adv)\n",
    "adv_str += model.to_string(unique_adv_1)\n",
    "\n",
    "org_label = ['false'] * len(unique_org) + ['true'] * len(unique_org_1)\n",
    "adv_label = ['true'] * len(unique_adv) + ['false'] * len(unique_adv_1)\n",
    "\n",
    "df = pd.DataFrame(list(zip(org_str, adv_str, org_label, adv_label)), columns=cols)"
   ]
  },
  {
   "cell_type": "code",
   "execution_count": null,
   "metadata": {},
   "outputs": [],
   "source": [
    "df.to_csv('data/circuit_identification_data/adv_bias/corrupt_adv_bias_eap_0.csv', index=False)"
   ]
  }
 ],
 "metadata": {
  "kernelspec": {
   "display_name": "dl2024",
   "language": "python",
   "name": "python3"
  },
  "language_info": {
   "codemirror_mode": {
    "name": "ipython",
    "version": 3
   },
   "file_extension": ".py",
   "mimetype": "text/x-python",
   "name": "python",
   "nbconvert_exporter": "python",
   "pygments_lexer": "ipython3",
   "version": "3.12.7"
  }
 },
 "nbformat": 4,
 "nbformat_minor": 2
}
