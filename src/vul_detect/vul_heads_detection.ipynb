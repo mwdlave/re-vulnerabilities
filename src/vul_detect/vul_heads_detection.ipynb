{
 "cells": [
  {
   "cell_type": "code",
   "execution_count": null,
   "metadata": {},
   "outputs": [
    {
     "name": "stderr",
     "output_type": "stream",
     "text": [
      "2025-01-29 17:01:10.885667: I tensorflow/core/platform/cpu_feature_guard.cc:193] This TensorFlow binary is optimized with oneAPI Deep Neural Network Library (oneDNN) to use the following CPU instructions in performance-critical operations:  AVX512_VNNI\n",
      "To enable them in other operations, rebuild TensorFlow with the appropriate compiler flags.\n",
      "2025-01-29 17:01:11.089787: I tensorflow/core/util/port.cc:104] oneDNN custom operations are on. You may see slightly different numerical results due to floating-point round-off errors from different computation orders. To turn them off, set the environment variable `TF_ENABLE_ONEDNN_OPTS=0`.\n"
     ]
    }
   ],
   "source": [
    "from src.utils.plotly_utils import imshow, line, scatter"
   ]
  },
  {
   "cell_type": "code",
   "execution_count": null,
   "metadata": {},
   "outputs": [],
   "source": [
    "#imports\n",
    "from transformer_lens import HookedTransformer\n",
    "import torch\n",
    "from random import sample\n",
    "import pandas as pd\n",
    "import pickle\n",
    "import os\n",
    "import matplotlib.pyplot as plt\n",
    "\n",
    "from src.vul_detect.diff_directions import *\n",
    "from src.utils.logits_utils import find_bos_token\n",
    "from src.utils.file_utils import load_files_named, filter_adv_org_samples\n",
    "\n",
    "import numpy as np\n",
    "\n",
    "DEVICE = \"cuda:0\"\n",
    "save_folder = \"work/outputs_vul\""
   ]
  },
  {
   "cell_type": "code",
   "execution_count": null,
   "metadata": {},
   "outputs": [
    {
     "name": "stderr",
     "output_type": "stream",
     "text": [
      "WARNING:root:You are not using LayerNorm, so the writing weights can't be centered! Skipping\n"
     ]
    },
    {
     "name": "stdout",
     "output_type": "stream",
     "text": [
      "Loaded pretrained model meta-llama/Llama-3.2-1B-Instruct into HookedTransformer\n"
     ]
    }
   ],
   "source": [
    "#model\n",
    "model = HookedTransformer.from_pretrained(\n",
    "    \"meta-llama/Llama-3.2-1B-Instruct\",\n",
    "    center_unembed=True,\n",
    "    center_writing_weights=True,\n",
    "    fold_ln=True,\n",
    "    #default_prepend_bos = False\n",
    "    # refactor_factored_attn_matrices=True\n",
    ")"
   ]
  },
  {
   "cell_type": "code",
   "execution_count": 4,
   "metadata": {},
   "outputs": [
    {
     "name": "stdout",
     "output_type": "stream",
     "text": [
      "Tensor shape with duplicates: torch.Size([474, 102])\n",
      "Final tensor shape: torch.Size([311, 102])\n"
     ]
    }
   ],
   "source": [
    "output_folder = 'work/outputs'\n",
    "adv_samples = load_files_named(output_folder, file_starts_with='adv')\n",
    "unique_tensor = filter_adv_samples(adv_samples)"
   ]
  },
  {
   "cell_type": "code",
   "execution_count": 5,
   "metadata": {},
   "outputs": [],
   "source": [
    "df_names = pd.read_csv('data/wiki_last_name_master.csv')"
   ]
  },
  {
   "cell_type": "code",
   "execution_count": 6,
   "metadata": {},
   "outputs": [
    {
     "name": "stdout",
     "output_type": "stream",
     "text": [
      "Sub_Region\n",
      "Central America    19.0\n",
      "East Asia          30.0\n",
      "Eastern Europe     19.0\n",
      "Middle East        39.0\n",
      "North America      19.0\n",
      "Northern Europe    23.0\n",
      "Oceania            18.0\n",
      "South America      19.0\n",
      "South Asia         80.0\n",
      "Southeast Asia     38.0\n",
      "Southern Europe    18.0\n",
      "Western Europe     17.0\n",
      "Name: name_count, dtype: float64\n"
     ]
    }
   ],
   "source": [
    "adv_string = model.to_string(unique_tensor)\n",
    "names = [prompt.split(\"ue\\n    \\\" \")[-1].split(\" wrote\")[0] for prompt in adv_string]    \n",
    "name_counts = pd.Series(names).value_counts()\n",
    "\n",
    "# Merge with DataFrame to map names to regions\n",
    "df = df_names.set_index(\"Localized Name\")\n",
    "df[\"name_count\"] = name_counts\n",
    "\n",
    "# Reset index and drop NaNs (for names not in the DataFrame)\n",
    "df = df.reset_index().dropna(subset=[\"name_count\"])\n",
    "\n",
    "# Aggregate counts by region\n",
    "region_counts = df.groupby(\"Sub_Region\")[\"name_count\"].sum()\n",
    "print(region_counts)"
   ]
  },
  {
   "cell_type": "code",
   "execution_count": 8,
   "metadata": {
    "collapsed": true,
    "jupyter": {
     "outputs_hidden": true
    },
    "tags": []
   },
   "outputs": [
    {
     "name": "stdout",
     "output_type": "stream",
     "text": [
      "number of samples: 311\n",
      "Tried to stack head results when they weren't cached. Computing head results now\n",
      "Saved per_head_logit_diffs_0.pkl\n",
      "Tried to stack head results when they weren't cached. Computing head results now\n",
      "Saved per_head_logit_diffs_2.pkl\n",
      "Tried to stack head results when they weren't cached. Computing head results now\n",
      "Saved per_head_logit_diffs_4.pkl\n",
      "Tried to stack head results when they weren't cached. Computing head results now\n",
      "Saved per_head_logit_diffs_6.pkl\n",
      "Tried to stack head results when they weren't cached. Computing head results now\n",
      "Saved per_head_logit_diffs_8.pkl\n",
      "Tried to stack head results when they weren't cached. Computing head results now\n",
      "Saved per_head_logit_diffs_10.pkl\n",
      "Tried to stack head results when they weren't cached. Computing head results now\n",
      "Saved per_head_logit_diffs_12.pkl\n",
      "Tried to stack head results when they weren't cached. Computing head results now\n",
      "Saved per_head_logit_diffs_14.pkl\n",
      "Tried to stack head results when they weren't cached. Computing head results now\n",
      "Saved per_head_logit_diffs_16.pkl\n",
      "Tried to stack head results when they weren't cached. Computing head results now\n",
      "Saved per_head_logit_diffs_18.pkl\n",
      "Tried to stack head results when they weren't cached. Computing head results now\n",
      "Saved per_head_logit_diffs_20.pkl\n",
      "Tried to stack head results when they weren't cached. Computing head results now\n",
      "Saved per_head_logit_diffs_22.pkl\n",
      "Tried to stack head results when they weren't cached. Computing head results now\n",
      "Saved per_head_logit_diffs_24.pkl\n",
      "Tried to stack head results when they weren't cached. Computing head results now\n",
      "Saved per_head_logit_diffs_26.pkl\n",
      "Tried to stack head results when they weren't cached. Computing head results now\n",
      "Saved per_head_logit_diffs_28.pkl\n",
      "Tried to stack head results when they weren't cached. Computing head results now\n",
      "Saved per_head_logit_diffs_30.pkl\n",
      "Tried to stack head results when they weren't cached. Computing head results now\n",
      "Saved per_head_logit_diffs_32.pkl\n",
      "Tried to stack head results when they weren't cached. Computing head results now\n",
      "Saved per_head_logit_diffs_34.pkl\n",
      "Tried to stack head results when they weren't cached. Computing head results now\n",
      "Saved per_head_logit_diffs_36.pkl\n",
      "Tried to stack head results when they weren't cached. Computing head results now\n",
      "Saved per_head_logit_diffs_38.pkl\n",
      "Tried to stack head results when they weren't cached. Computing head results now\n",
      "Saved per_head_logit_diffs_40.pkl\n",
      "Tried to stack head results when they weren't cached. Computing head results now\n",
      "Saved per_head_logit_diffs_42.pkl\n",
      "Tried to stack head results when they weren't cached. Computing head results now\n",
      "Saved per_head_logit_diffs_44.pkl\n",
      "Tried to stack head results when they weren't cached. Computing head results now\n",
      "Saved per_head_logit_diffs_46.pkl\n",
      "Tried to stack head results when they weren't cached. Computing head results now\n",
      "Saved per_head_logit_diffs_48.pkl\n",
      "Tried to stack head results when they weren't cached. Computing head results now\n",
      "Saved per_head_logit_diffs_50.pkl\n",
      "Tried to stack head results when they weren't cached. Computing head results now\n",
      "Saved per_head_logit_diffs_52.pkl\n",
      "Tried to stack head results when they weren't cached. Computing head results now\n",
      "Saved per_head_logit_diffs_54.pkl\n",
      "Tried to stack head results when they weren't cached. Computing head results now\n",
      "Saved per_head_logit_diffs_56.pkl\n",
      "Tried to stack head results when they weren't cached. Computing head results now\n",
      "Saved per_head_logit_diffs_58.pkl\n",
      "Tried to stack head results when they weren't cached. Computing head results now\n",
      "Saved per_head_logit_diffs_60.pkl\n",
      "Tried to stack head results when they weren't cached. Computing head results now\n",
      "Saved per_head_logit_diffs_62.pkl\n",
      "Tried to stack head results when they weren't cached. Computing head results now\n",
      "Saved per_head_logit_diffs_64.pkl\n",
      "Tried to stack head results when they weren't cached. Computing head results now\n",
      "Saved per_head_logit_diffs_66.pkl\n",
      "Tried to stack head results when they weren't cached. Computing head results now\n",
      "Saved per_head_logit_diffs_68.pkl\n",
      "Tried to stack head results when they weren't cached. Computing head results now\n",
      "Saved per_head_logit_diffs_70.pkl\n",
      "Tried to stack head results when they weren't cached. Computing head results now\n",
      "Saved per_head_logit_diffs_72.pkl\n",
      "Tried to stack head results when they weren't cached. Computing head results now\n",
      "Saved per_head_logit_diffs_74.pkl\n",
      "Tried to stack head results when they weren't cached. Computing head results now\n",
      "Saved per_head_logit_diffs_76.pkl\n",
      "Tried to stack head results when they weren't cached. Computing head results now\n",
      "Saved per_head_logit_diffs_78.pkl\n",
      "Tried to stack head results when they weren't cached. Computing head results now\n",
      "Saved per_head_logit_diffs_80.pkl\n",
      "Tried to stack head results when they weren't cached. Computing head results now\n",
      "Saved per_head_logit_diffs_82.pkl\n",
      "Tried to stack head results when they weren't cached. Computing head results now\n",
      "Saved per_head_logit_diffs_84.pkl\n",
      "Tried to stack head results when they weren't cached. Computing head results now\n",
      "Saved per_head_logit_diffs_86.pkl\n",
      "Tried to stack head results when they weren't cached. Computing head results now\n",
      "Saved per_head_logit_diffs_88.pkl\n",
      "Tried to stack head results when they weren't cached. Computing head results now\n",
      "Saved per_head_logit_diffs_90.pkl\n",
      "Tried to stack head results when they weren't cached. Computing head results now\n",
      "Saved per_head_logit_diffs_92.pkl\n",
      "Tried to stack head results when they weren't cached. Computing head results now\n",
      "Saved per_head_logit_diffs_94.pkl\n",
      "Tried to stack head results when they weren't cached. Computing head results now\n",
      "Saved per_head_logit_diffs_96.pkl\n",
      "Tried to stack head results when they weren't cached. Computing head results now\n",
      "Saved per_head_logit_diffs_98.pkl\n",
      "Tried to stack head results when they weren't cached. Computing head results now\n",
      "Saved per_head_logit_diffs_100.pkl\n",
      "Tried to stack head results when they weren't cached. Computing head results now\n",
      "Saved per_head_logit_diffs_102.pkl\n",
      "Tried to stack head results when they weren't cached. Computing head results now\n",
      "Saved per_head_logit_diffs_104.pkl\n",
      "Tried to stack head results when they weren't cached. Computing head results now\n",
      "Saved per_head_logit_diffs_106.pkl\n",
      "Tried to stack head results when they weren't cached. Computing head results now\n",
      "Saved per_head_logit_diffs_108.pkl\n",
      "Tried to stack head results when they weren't cached. Computing head results now\n",
      "Saved per_head_logit_diffs_110.pkl\n",
      "Tried to stack head results when they weren't cached. Computing head results now\n",
      "Saved per_head_logit_diffs_112.pkl\n",
      "Tried to stack head results when they weren't cached. Computing head results now\n",
      "Saved per_head_logit_diffs_114.pkl\n",
      "Tried to stack head results when they weren't cached. Computing head results now\n",
      "Saved per_head_logit_diffs_116.pkl\n",
      "Tried to stack head results when they weren't cached. Computing head results now\n",
      "Saved per_head_logit_diffs_118.pkl\n",
      "Tried to stack head results when they weren't cached. Computing head results now\n",
      "Saved per_head_logit_diffs_120.pkl\n",
      "Tried to stack head results when they weren't cached. Computing head results now\n",
      "Saved per_head_logit_diffs_122.pkl\n",
      "Tried to stack head results when they weren't cached. Computing head results now\n",
      "Saved per_head_logit_diffs_124.pkl\n",
      "Tried to stack head results when they weren't cached. Computing head results now\n",
      "Saved per_head_logit_diffs_126.pkl\n",
      "Tried to stack head results when they weren't cached. Computing head results now\n",
      "Saved per_head_logit_diffs_128.pkl\n",
      "Tried to stack head results when they weren't cached. Computing head results now\n",
      "Saved per_head_logit_diffs_130.pkl\n",
      "Tried to stack head results when they weren't cached. Computing head results now\n",
      "Saved per_head_logit_diffs_132.pkl\n",
      "Tried to stack head results when they weren't cached. Computing head results now\n",
      "Saved per_head_logit_diffs_134.pkl\n",
      "Tried to stack head results when they weren't cached. Computing head results now\n",
      "Saved per_head_logit_diffs_136.pkl\n",
      "Tried to stack head results when they weren't cached. Computing head results now\n",
      "Saved per_head_logit_diffs_138.pkl\n",
      "Tried to stack head results when they weren't cached. Computing head results now\n",
      "Saved per_head_logit_diffs_140.pkl\n",
      "Tried to stack head results when they weren't cached. Computing head results now\n",
      "Saved per_head_logit_diffs_142.pkl\n",
      "Tried to stack head results when they weren't cached. Computing head results now\n",
      "Saved per_head_logit_diffs_144.pkl\n",
      "Tried to stack head results when they weren't cached. Computing head results now\n",
      "Saved per_head_logit_diffs_146.pkl\n",
      "Tried to stack head results when they weren't cached. Computing head results now\n",
      "Saved per_head_logit_diffs_148.pkl\n",
      "Tried to stack head results when they weren't cached. Computing head results now\n",
      "Saved per_head_logit_diffs_150.pkl\n",
      "Tried to stack head results when they weren't cached. Computing head results now\n",
      "Saved per_head_logit_diffs_152.pkl\n",
      "Tried to stack head results when they weren't cached. Computing head results now\n",
      "Saved per_head_logit_diffs_154.pkl\n",
      "Tried to stack head results when they weren't cached. Computing head results now\n",
      "Saved per_head_logit_diffs_156.pkl\n",
      "Tried to stack head results when they weren't cached. Computing head results now\n",
      "Saved per_head_logit_diffs_158.pkl\n",
      "Tried to stack head results when they weren't cached. Computing head results now\n",
      "Saved per_head_logit_diffs_160.pkl\n",
      "Tried to stack head results when they weren't cached. Computing head results now\n",
      "Saved per_head_logit_diffs_162.pkl\n",
      "Tried to stack head results when they weren't cached. Computing head results now\n",
      "Saved per_head_logit_diffs_164.pkl\n",
      "Tried to stack head results when they weren't cached. Computing head results now\n",
      "Saved per_head_logit_diffs_166.pkl\n",
      "Tried to stack head results when they weren't cached. Computing head results now\n",
      "Saved per_head_logit_diffs_168.pkl\n",
      "Tried to stack head results when they weren't cached. Computing head results now\n",
      "Saved per_head_logit_diffs_170.pkl\n",
      "Tried to stack head results when they weren't cached. Computing head results now\n",
      "Saved per_head_logit_diffs_172.pkl\n",
      "Tried to stack head results when they weren't cached. Computing head results now\n",
      "Saved per_head_logit_diffs_174.pkl\n",
      "Tried to stack head results when they weren't cached. Computing head results now\n",
      "Saved per_head_logit_diffs_176.pkl\n",
      "Tried to stack head results when they weren't cached. Computing head results now\n",
      "Saved per_head_logit_diffs_178.pkl\n",
      "Tried to stack head results when they weren't cached. Computing head results now\n",
      "Saved per_head_logit_diffs_180.pkl\n",
      "Tried to stack head results when they weren't cached. Computing head results now\n",
      "Saved per_head_logit_diffs_182.pkl\n",
      "Tried to stack head results when they weren't cached. Computing head results now\n",
      "Saved per_head_logit_diffs_184.pkl\n",
      "Tried to stack head results when they weren't cached. Computing head results now\n",
      "Saved per_head_logit_diffs_186.pkl\n",
      "Tried to stack head results when they weren't cached. Computing head results now\n",
      "Saved per_head_logit_diffs_188.pkl\n",
      "Tried to stack head results when they weren't cached. Computing head results now\n",
      "Saved per_head_logit_diffs_190.pkl\n",
      "Tried to stack head results when they weren't cached. Computing head results now\n",
      "Saved per_head_logit_diffs_192.pkl\n",
      "Tried to stack head results when they weren't cached. Computing head results now\n",
      "Saved per_head_logit_diffs_194.pkl\n",
      "Tried to stack head results when they weren't cached. Computing head results now\n",
      "Saved per_head_logit_diffs_196.pkl\n",
      "Tried to stack head results when they weren't cached. Computing head results now\n",
      "Saved per_head_logit_diffs_198.pkl\n",
      "Tried to stack head results when they weren't cached. Computing head results now\n",
      "Saved per_head_logit_diffs_200.pkl\n",
      "Tried to stack head results when they weren't cached. Computing head results now\n",
      "Saved per_head_logit_diffs_202.pkl\n",
      "Tried to stack head results when they weren't cached. Computing head results now\n",
      "Saved per_head_logit_diffs_204.pkl\n",
      "Tried to stack head results when they weren't cached. Computing head results now\n",
      "Saved per_head_logit_diffs_206.pkl\n",
      "Tried to stack head results when they weren't cached. Computing head results now\n",
      "Saved per_head_logit_diffs_208.pkl\n",
      "Tried to stack head results when they weren't cached. Computing head results now\n",
      "Saved per_head_logit_diffs_210.pkl\n",
      "Tried to stack head results when they weren't cached. Computing head results now\n",
      "Saved per_head_logit_diffs_212.pkl\n",
      "Tried to stack head results when they weren't cached. Computing head results now\n",
      "Saved per_head_logit_diffs_214.pkl\n",
      "Tried to stack head results when they weren't cached. Computing head results now\n",
      "Saved per_head_logit_diffs_216.pkl\n",
      "Tried to stack head results when they weren't cached. Computing head results now\n",
      "Saved per_head_logit_diffs_218.pkl\n",
      "Tried to stack head results when they weren't cached. Computing head results now\n",
      "Saved per_head_logit_diffs_220.pkl\n",
      "Tried to stack head results when they weren't cached. Computing head results now\n",
      "Saved per_head_logit_diffs_222.pkl\n",
      "Tried to stack head results when they weren't cached. Computing head results now\n",
      "Saved per_head_logit_diffs_224.pkl\n",
      "Tried to stack head results when they weren't cached. Computing head results now\n",
      "Saved per_head_logit_diffs_226.pkl\n",
      "Tried to stack head results when they weren't cached. Computing head results now\n",
      "Saved per_head_logit_diffs_228.pkl\n",
      "Tried to stack head results when they weren't cached. Computing head results now\n",
      "Saved per_head_logit_diffs_230.pkl\n",
      "Tried to stack head results when they weren't cached. Computing head results now\n",
      "Saved per_head_logit_diffs_232.pkl\n",
      "Tried to stack head results when they weren't cached. Computing head results now\n",
      "Saved per_head_logit_diffs_234.pkl\n",
      "Tried to stack head results when they weren't cached. Computing head results now\n",
      "Saved per_head_logit_diffs_236.pkl\n",
      "Tried to stack head results when they weren't cached. Computing head results now\n",
      "Saved per_head_logit_diffs_238.pkl\n",
      "Tried to stack head results when they weren't cached. Computing head results now\n",
      "Saved per_head_logit_diffs_240.pkl\n",
      "Tried to stack head results when they weren't cached. Computing head results now\n",
      "Saved per_head_logit_diffs_242.pkl\n",
      "Tried to stack head results when they weren't cached. Computing head results now\n",
      "Saved per_head_logit_diffs_244.pkl\n",
      "Tried to stack head results when they weren't cached. Computing head results now\n",
      "Saved per_head_logit_diffs_246.pkl\n",
      "Tried to stack head results when they weren't cached. Computing head results now\n",
      "Saved per_head_logit_diffs_248.pkl\n",
      "Tried to stack head results when they weren't cached. Computing head results now\n",
      "Saved per_head_logit_diffs_250.pkl\n",
      "Tried to stack head results when they weren't cached. Computing head results now\n",
      "Saved per_head_logit_diffs_252.pkl\n",
      "Tried to stack head results when they weren't cached. Computing head results now\n",
      "Saved per_head_logit_diffs_254.pkl\n",
      "Tried to stack head results when they weren't cached. Computing head results now\n",
      "Saved per_head_logit_diffs_256.pkl\n",
      "Tried to stack head results when they weren't cached. Computing head results now\n",
      "Saved per_head_logit_diffs_258.pkl\n",
      "Tried to stack head results when they weren't cached. Computing head results now\n",
      "Saved per_head_logit_diffs_260.pkl\n",
      "Tried to stack head results when they weren't cached. Computing head results now\n",
      "Saved per_head_logit_diffs_262.pkl\n",
      "Tried to stack head results when they weren't cached. Computing head results now\n",
      "Saved per_head_logit_diffs_264.pkl\n",
      "Tried to stack head results when they weren't cached. Computing head results now\n",
      "Saved per_head_logit_diffs_266.pkl\n",
      "Tried to stack head results when they weren't cached. Computing head results now\n",
      "Saved per_head_logit_diffs_268.pkl\n",
      "Tried to stack head results when they weren't cached. Computing head results now\n",
      "Saved per_head_logit_diffs_270.pkl\n",
      "Tried to stack head results when they weren't cached. Computing head results now\n",
      "Saved per_head_logit_diffs_272.pkl\n",
      "Tried to stack head results when they weren't cached. Computing head results now\n",
      "Saved per_head_logit_diffs_274.pkl\n",
      "Tried to stack head results when they weren't cached. Computing head results now\n",
      "Saved per_head_logit_diffs_276.pkl\n",
      "Tried to stack head results when they weren't cached. Computing head results now\n",
      "Saved per_head_logit_diffs_278.pkl\n",
      "Tried to stack head results when they weren't cached. Computing head results now\n",
      "Saved per_head_logit_diffs_280.pkl\n",
      "Tried to stack head results when they weren't cached. Computing head results now\n",
      "Saved per_head_logit_diffs_282.pkl\n",
      "Tried to stack head results when they weren't cached. Computing head results now\n",
      "Saved per_head_logit_diffs_284.pkl\n",
      "Tried to stack head results when they weren't cached. Computing head results now\n",
      "Saved per_head_logit_diffs_286.pkl\n",
      "Tried to stack head results when they weren't cached. Computing head results now\n",
      "Saved per_head_logit_diffs_288.pkl\n",
      "Tried to stack head results when they weren't cached. Computing head results now\n",
      "Saved per_head_logit_diffs_290.pkl\n",
      "Tried to stack head results when they weren't cached. Computing head results now\n",
      "Saved per_head_logit_diffs_292.pkl\n",
      "Tried to stack head results when they weren't cached. Computing head results now\n",
      "Saved per_head_logit_diffs_294.pkl\n",
      "Tried to stack head results when they weren't cached. Computing head results now\n",
      "Saved per_head_logit_diffs_296.pkl\n",
      "Tried to stack head results when they weren't cached. Computing head results now\n",
      "Saved per_head_logit_diffs_298.pkl\n",
      "Tried to stack head results when they weren't cached. Computing head results now\n",
      "Saved per_head_logit_diffs_300.pkl\n",
      "Tried to stack head results when they weren't cached. Computing head results now\n",
      "Saved per_head_logit_diffs_302.pkl\n",
      "Tried to stack head results when they weren't cached. Computing head results now\n",
      "Saved per_head_logit_diffs_304.pkl\n",
      "Tried to stack head results when they weren't cached. Computing head results now\n",
      "Saved per_head_logit_diffs_306.pkl\n",
      "Tried to stack head results when they weren't cached. Computing head results now\n",
      "Saved per_head_logit_diffs_308.pkl\n",
      "Tried to stack head results when they weren't cached. Computing head results now\n",
      "Saved per_head_logit_diffs_310.pkl\n"
     ]
    }
   ],
   "source": [
    "#FULL \n",
    "batch_size = 2\n",
    "save_prefix = \"full\"\n",
    "\n",
    "sampled_prompts_tokenized = unique_tensor\n",
    "print(f'number of samples: {sampled_prompts_tokenized.shape[0]}')\n",
    "position_of_eos = find_bos_token(sampled_prompts_tokenized, bos_token = 128009)\n",
    "\n",
    "pos_slice = torch.tensor(position_of_eos).to(DEVICE)\n",
    "\n",
    "toxicity = [0 for _ in range(sampled_prompts_tokenized.shape[0])]\n",
    "y_sampled = np.array(toxicity) > 0.5\n",
    "\n",
    "answer_tokens = ['true' if y else 'false' for y in y_sampled]\n",
    "wrong_tokens = ['false' if y else 'true' for y in y_sampled]\n",
    "\n",
    "\n",
    "answer_tokens = model.to_tokens(answer_tokens, prepend_bos=False)\n",
    "wrong_tokens = model.to_tokens(wrong_tokens, prepend_bos=False)\n",
    "\n",
    "get_heads_logit_diff(prompts = sampled_prompts_tokenized, \n",
    "                answer_tokens = answer_tokens, \n",
    "                wrong_tokens = wrong_tokens, \n",
    "                position_of_eos = pos_slice,\n",
    "                model = model,\n",
    "                batch_size = batch_size,\n",
    "                save_folder = save_folder,\n",
    "                save_prefix = save_prefix)"
   ]
  },
  {
   "cell_type": "code",
   "execution_count": 9,
   "metadata": {},
   "outputs": [],
   "source": [
    "full_per_head_logit_diffs = []\n",
    "for i in range(0,len(sampled_prompts_tokenized),batch_size):\n",
    "    with open(f'{save_folder}/{save_prefix}_per_head_logit_diffs_{i}.pkl', 'rb') as f:\n",
    "        heads_logit_diff = pickle.load(f)\n",
    "\n",
    "    full_per_head_logit_diffs.append(heads_logit_diff)\n",
    "\n",
    "mean_per_head_logit_diffs = torch.mean(torch.stack(full_per_head_logit_diffs), dim=0)"
   ]
  },
  {
   "cell_type": "code",
   "execution_count": 11,
   "metadata": {},
   "outputs": [],
   "source": [
    "fig = imshow(\n",
    "        mean_per_head_logit_diffs,\n",
    "        labels={\"x\":\"Head\", \"y\":\"Layer\"},\n",
    "        title=f\"Logit Difference From Each Head for adversarial samples\",\n",
    "        width=600,\n",
    "    return_fig = True\n",
    "    )\n",
    "\n",
    "fig.write_image(\"work/saved/bias/plot_vul_toxic.svg\", format=\"svg\")  # Save as SVG"
   ]
  },
  {
   "cell_type": "code",
   "execution_count": 16,
   "metadata": {},
   "outputs": [
    {
     "data": {
      "application/vnd.plotly.v1+json": {
       "config": {
        "plotlyServerURL": "https://plot.ly",
        "staticPlot": false
       },
       "data": [
        {
         "coloraxis": "coloraxis",
         "hovertemplate": "Head: %{x}<br>Layer: %{y}<br>color: %{z}<extra></extra>",
         "name": "0",
         "type": "heatmap",
         "xaxis": "x",
         "yaxis": "y",
         "z": [
          [
           0.0003802719002123922,
           -0.0036066907923668623,
           -0.011064182966947556,
           -0.003335498971864581,
           0.00004602243279805407,
           -0.0007433283608406782,
           -0.002082751365378499,
           0.005777446087449789,
           -0.0011227724608033895,
           -0.00844305194914341,
           0.0018058668356388807,
           0.005919507704675198,
           -0.0018934888066723943,
           -0.0019505994860082865,
           0.0042028967291116714,
           0.003640402341261506,
           -0.0061845919117331505,
           0.002912380499765277,
           0.00036857230588793755,
           0.001379032852128148,
           -0.0009496457641944289,
           0.0017461429815739393,
           0.006238844711333513,
           0.0016798984725028276,
           -0.0011834915494546294,
           0.0011294936994090676,
           0.0011149198981001973,
           0.000851726857945323,
           -0.0005696307634934783,
           -0.006673731375485659,
           -0.009919174015522003,
           -0.011353670619428158
          ],
          [
           0.009311067871749401,
           -0.005764792673289776,
           0.00043343257857486606,
           -0.018757835030555725,
           -0.008785040117800236,
           -0.0053854878060519695,
           -0.004935889039188623,
           -0.00898353848606348,
           0.01147814467549324,
           0.0029214085079729557,
           0.003056794172152877,
           -0.008356559090316296,
           -0.008826394565403461,
           0.0031171832233667374,
           -0.00041412480641156435,
           -0.009195479564368725,
           0.021108478307724,
           -0.016576675698161125,
           0.0031291102059185505,
           -0.011279079131782055,
           0.01465232577174902,
           -0.0016442688647657633,
           0.0045569539070129395,
           -0.006932743359357119,
           0.0021855272352695465,
           -0.009783841669559479,
           0.00012644399248529226,
           -0.011090608313679695,
           0.0004339632869232446,
           0.006661922670900822,
           -0.008410479873418808,
           0.006080332677811384
          ],
          [
           -0.004937755409628153,
           -0.002088111126795411,
           -0.0022850963287055492,
           -0.027259159833192825,
           0.0046015228144824505,
           0.022016368806362152,
           -0.025125594809651375,
           0.010513863526284695,
           0.003789318259805441,
           -0.003245249157771468,
           -0.0018999878084287047,
           -0.0004971025628037751,
           -0.006083890330046415,
           -0.0030180432368069887,
           0.014645082876086235,
           -0.011289765127003193,
           0.009752124547958374,
           -0.0030038736294955015,
           -0.0002146265615010634,
           0.0014453243929892778,
           -0.0009129640529863536,
           0.001696741790510714,
           -0.014276012778282166,
           -0.0027384499553591013,
           -0.01743382029235363,
           -0.009189343079924583,
           0.033040475100278854,
           0.005036196205765009,
           -0.006846155971288681,
           0.0023070203606039286,
           -0.005266055464744568,
           -0.004133027046918869
          ],
          [
           0.0032370996195822954,
           0.011738236993551254,
           0.002224372234195471,
           0.010872229933738708,
           0.018101418390870094,
           -0.005594958551228046,
           0.018540099263191223,
           0.009424768388271332,
           0.02057577669620514,
           -0.02011546678841114,
           0.008769023232161999,
           0.0025390153750777245,
           -0.00027319134096615016,
           0.0016840666066855192,
           0.001416989485733211,
           -0.0011483323760330677,
           -0.0005433348123915493,
           0.005496750120073557,
           -0.020034532994031906,
           -0.021499967202544212,
           -0.010750934481620789,
           -0.016645926982164383,
           -0.016911307349801064,
           0.02122274786233902,
           -0.0039494819939136505,
           -0.0015160494949668646,
           0.021939722821116447,
           -0.011475919745862484,
           0.07323451340198517,
           -0.009695661254227161,
           -0.04106825962662697,
           0.015249749645590782
          ],
          [
           0.005738697946071625,
           0.04683607816696167,
           -0.029667576774954796,
           0.006823782809078693,
           -0.009078256785869598,
           0.01237327791750431,
           -0.008566292934119701,
           0.005336453672498465,
           0.009635412134230137,
           0.006461895536631346,
           -0.02339480258524418,
           0.026030197739601135,
           -0.009799772873520851,
           0.037551965564489365,
           -0.008021419867873192,
           0.07898201048374176,
           0.10408792644739151,
           0.01617957092821598,
           -0.003325246972963214,
           -0.04287457838654518,
           0.0038752297405153513,
           0.016420653089880943,
           -0.02323785237967968,
           0.00269371853210032,
           0.02427365817129612,
           0.009566829539835453,
           -0.024014491587877274,
           -0.013273107819259167,
           0.001582145574502647,
           -0.002929843030869961,
           0.01904927007853985,
           0.028079714626073837
          ],
          [
           -0.0025659448001533747,
           0.02389727532863617,
           0.00817650556564331,
           0.03770064562559128,
           0.0031059938482940197,
           0.03668670728802681,
           -0.015904303640127182,
           -0.0272347554564476,
           0.03814851492643356,
           -0.022748826071619987,
           -0.0036231435369700193,
           -0.0030677933245897293,
           0.01952904649078846,
           0.007047729566693306,
           -0.005065441131591797,
           0.010847079567611217,
           -0.027736352756619453,
           0.026955679059028625,
           -0.0186925046145916,
           0.00333801144734025,
           -0.04590114951133728,
           0.05051060765981674,
           -0.01531855296343565,
           -0.006200170144438744,
           -0.009083140641450882,
           0.03257839381694794,
           -0.003429702017456293,
           -0.03493553772568703,
           -0.0086194584146142,
           -0.03026794269680977,
           0.03583740070462227,
           0.033790040761232376
          ],
          [
           0.0011999349808320403,
           0.03699988126754761,
           -0.006835286505520344,
           0.00840040948241949,
           0.04469238966703415,
           -0.05905989557504654,
           0.02465205267071724,
           0.034928370267152786,
           0.122406005859375,
           -0.02381414920091629,
           0.006466243416070938,
           0.014595515094697475,
           -0.024813074618577957,
           0.024476608261466026,
           -0.015271147713065147,
           -0.010652841068804264,
           -0.006867298856377602,
           0.021324079483747482,
           -0.034464869648218155,
           -0.005650181323289871,
           0.015019313432276249,
           0.10125895589590073,
           -0.02224653773009777,
           0.014567195437848568,
           -0.0007615624344907701,
           0.04981704428792,
           -0.037912122905254364,
           -0.01454644650220871,
           0.014971181750297546,
           0.022281773388385773,
           -0.027784571051597595,
           0.023858198896050453
          ],
          [
           0.009106378071010113,
           -0.048093825578689575,
           -0.05411574989557266,
           0.05436648055911064,
           0.01632995717227459,
           -0.06640394032001495,
           0.0646418035030365,
           0.0501885786652565,
           -0.01857326366007328,
           0.038769956678152084,
           0.01977505534887314,
           0.07964751869440079,
           0.008823963813483715,
           0.013511519879102707,
           -0.052944116294384,
           0.0321609303355217,
           -0.03209244832396507,
           -0.012491154484450817,
           -0.030003536492586136,
           -0.003839169628918171,
           -0.01010893378406763,
           0.03252393752336502,
           -0.023720957338809967,
           0.05420132353901863,
           0.061388757079839706,
           -0.014921766705811024,
           -0.10254272818565369,
           -0.014430844224989414,
           0.09717803448438644,
           -0.043818097561597824,
           0.032275278121232986,
           0.013053796254098415
          ],
          [
           -0.025649016723036766,
           0.02883020229637623,
           0.011811316013336182,
           -0.04748844727873802,
           -0.033601757138967514,
           -0.05170658230781555,
           0.13580472767353058,
           -0.05490916222333908,
           -0.030580954626202583,
           0.00433580856770277,
           -0.005377199035137892,
           0.018798206001520157,
           0.015405954793095589,
           -0.10512185841798782,
           0.06903136521577835,
           0.03243311122059822,
           -0.10796680301427841,
           0.01709301955997944,
           -0.1774436980485916,
           0.21391117572784424,
           -0.05982888117432594,
           0.056900206953287125,
           0.079754538834095,
           -0.012146912515163422,
           -0.06808698922395706,
           0.0324358232319355,
           0.0020415664184838533,
           0.012136195786297321,
           -0.059164054691791534,
           0.07109067589044571,
           -0.0289019625633955,
           0.04558573663234711
          ],
          [
           0.05787038803100586,
           -0.05564592406153679,
           0.054731111973524094,
           0.010066978633403778,
           -0.06687197089195251,
           -0.010191289708018303,
           0.0415029376745224,
           0.049637917429208755,
           0.08260412514209747,
           -0.00034525812952779233,
           -0.00225414359010756,
           0.03185425326228142,
           0.01629026047885418,
           0.0547388419508934,
           -0.014681565575301647,
           -0.02474660612642765,
           -0.07097716629505157,
           0.01802797056734562,
           0.007548396475613117,
           0.053747549653053284,
           0.021501196548342705,
           -0.03220200911164284,
           0.07108890265226364,
           -0.047024451196193695,
           0.0011315424926578999,
           -0.025196023285388947,
           0.047617826610803604,
           0.028765223920345306,
           0.04355869069695473,
           -0.06269436329603195,
           -0.006608705036342144,
           0.05205921828746796
          ],
          [
           -0.016219664365053177,
           0.012710564769804478,
           0.03566751629114151,
           0.021039286628365517,
           0.028404388576745987,
           -0.009390696883201599,
           0.012357684783637524,
           -0.0244020763784647,
           0.01651398092508316,
           0.06122870370745659,
           -0.06587289273738861,
           0.02884521894156933,
           -0.028383107855916023,
           0.03421301767230034,
           -0.052166424691677094,
           -0.04894259199500084,
           -0.03441997617483139,
           0.04220195859670639,
           0.01636870950460434,
           -0.004343162756413221,
           0.02312483824789524,
           0.11393468827009201,
           -0.10456077754497528,
           0.06903688609600067,
           0.0733201801776886,
           0.0020159906707704067,
           0.025487713515758514,
           -0.004210237413644791,
           0.002648724941536784,
           -0.0046902489848434925,
           -0.007367352023720741,
           0.019070783630013466
          ],
          [
           0.02022462897002697,
           0.03548998013138771,
           0.012764045037329197,
           0.038521476089954376,
           -0.006346826907247305,
           0.012402948923408985,
           0.0067116618156433105,
           0.05545627325773239,
           0.10112448036670685,
           0.0351254865527153,
           -0.06950332969427109,
           0.07851722836494446,
           -0.007621594239026308,
           -0.023265041410923004,
           -0.04666346311569214,
           -0.008833983913064003,
           0.01088589709252119,
           -0.006732191890478134,
           0.005077248904854059,
           -0.005701207555830479,
           0.010935365222394466,
           0.008657805621623993,
           -0.00843166932463646,
           -0.05727354809641838,
           0.01792038418352604,
           -0.02834809198975563,
           -0.003529599867761135,
           -0.00921392161399126,
           0.00453738309442997,
           0.04988925904035568,
           -0.024559222161769867,
           -0.01089869998395443
          ],
          [
           0.07087747752666473,
           0.022356808185577393,
           -0.08082761615514755,
           0.06632295995950699,
           0.01049098651856184,
           0.02411412075161934,
           0.02732454612851143,
           0.007296774536371231,
           0.0005061386618763208,
           -0.04203276336193085,
           -0.0008419418591074646,
           -0.016843682155013084,
           0.008538085967302322,
           0.035348840057849884,
           -0.007181880064308643,
           -0.03488926216959953,
           0.01998608000576496,
           -0.04126672446727753,
           0.01616206020116806,
           0.03987123444676399,
           0.02182938903570175,
           -0.026191001757979393,
           0.04731559753417969,
           -0.005003540776669979,
           -0.011059088632464409,
           -0.010716072283685207,
           -0.0037318943068385124,
           -0.009704673662781715,
           0.09409927576780319,
           -0.017698068171739578,
           0.005699812900274992,
           0.006849684286862612
          ],
          [
           0.03384186699986458,
           0.0025795407127588987,
           0.030255626887083054,
           -0.0057648299261927605,
           -0.0012381288688629866,
           -0.022890109568834305,
           -0.03348967060446739,
           0.012531355954706669,
           -0.007459843996912241,
           0.02013576030731201,
           -0.13316959142684937,
           0.14482928812503815,
           0.007764088921248913,
           -0.06442215293645859,
           0.001961679430678487,
           -0.012944187968969345,
           0.0438503734767437,
           -0.05485209450125694,
           0.016688711941242218,
           0.04461837559938431,
           0.07986056804656982,
           0.04690460115671158,
           0.02475234493613243,
           -0.01953168958425522,
           0.027062401175498962,
           0.0965852364897728,
           -0.04984930157661438,
           0.00995352678000927,
           -0.06823671609163284,
           0.03633072227239609,
           -0.03999887406826019,
           -0.15100210905075073
          ],
          [
           0.02122773975133896,
           0.0064615667797625065,
           -0.027169037610292435,
           0.03582590073347092,
           0.08899921178817749,
           -0.04186380282044411,
           0.07427602261304855,
           -0.003258767072111368,
           0.007097925990819931,
           -0.006006555166095495,
           0.0040152063593268394,
           -0.03500845283269882,
           -0.008039667271077633,
           -0.03807050362229347,
           -0.007724157068878412,
           0.16037625074386597,
           0.0324096605181694,
           0.003182011656463146,
           0.04310803487896919,
           -0.007536064367741346,
           -0.014951562508940697,
           0.10365455597639084,
           -0.08308485150337219,
           0.006271507125347853,
           0.00018808625463861972,
           0.34429219365119934,
           0.01446972880512476,
           0.08966822922229767,
           0.058699265122413635,
           0.1319667100906372,
           -0.0057273562997579575,
           -0.08293353766202927
          ],
          [
           0.026251595467329025,
           0.13951513171195984,
           -0.1216048002243042,
           -0.009207626804709435,
           -0.2306274026632309,
           -0.009281170554459095,
           -0.008198058232665062,
           0.019881343469023705,
           -0.06484868377447128,
           -0.03697977215051651,
           -0.05422072112560272,
           0.04061034694314003,
           0.02086353674530983,
           0.015032196417450905,
           -0.09480751305818558,
           -0.012262382544577122,
           0.04045287147164345,
           0.03633561730384827,
           0.04202282801270485,
           0.010912294499576092,
           0.029759667813777924,
           0.07308204472064972,
           -0.015823082998394966,
           0.20737574994564056,
           -0.053319185972213745,
           -0.0018578462768346071,
           0.018430808559060097,
           0.00786020327359438,
           -0.03708020970225334,
           -0.017724327743053436,
           -0.000022182886823429726,
           0.018649021163582802
          ]
         ]
        }
       ],
       "layout": {
        "coloraxis": {
         "cmid": 0,
         "colorscale": [
          [
           0,
           "rgb(103,0,31)"
          ],
          [
           0.1,
           "rgb(178,24,43)"
          ],
          [
           0.2,
           "rgb(214,96,77)"
          ],
          [
           0.3,
           "rgb(244,165,130)"
          ],
          [
           0.4,
           "rgb(253,219,199)"
          ],
          [
           0.5,
           "rgb(247,247,247)"
          ],
          [
           0.6,
           "rgb(209,229,240)"
          ],
          [
           0.7,
           "rgb(146,197,222)"
          ],
          [
           0.8,
           "rgb(67,147,195)"
          ],
          [
           0.9,
           "rgb(33,102,172)"
          ],
          [
           1,
           "rgb(5,48,97)"
          ]
         ]
        },
        "height": 360,
        "template": {
         "data": {
          "bar": [
           {
            "error_x": {
             "color": "#2a3f5f"
            },
            "error_y": {
             "color": "#2a3f5f"
            },
            "marker": {
             "line": {
              "color": "#E5ECF6",
              "width": 0.5
             },
             "pattern": {
              "fillmode": "overlay",
              "size": 10,
              "solidity": 0.2
             }
            },
            "type": "bar"
           }
          ],
          "barpolar": [
           {
            "marker": {
             "line": {
              "color": "#E5ECF6",
              "width": 0.5
             },
             "pattern": {
              "fillmode": "overlay",
              "size": 10,
              "solidity": 0.2
             }
            },
            "type": "barpolar"
           }
          ],
          "carpet": [
           {
            "aaxis": {
             "endlinecolor": "#2a3f5f",
             "gridcolor": "white",
             "linecolor": "white",
             "minorgridcolor": "white",
             "startlinecolor": "#2a3f5f"
            },
            "baxis": {
             "endlinecolor": "#2a3f5f",
             "gridcolor": "white",
             "linecolor": "white",
             "minorgridcolor": "white",
             "startlinecolor": "#2a3f5f"
            },
            "type": "carpet"
           }
          ],
          "choropleth": [
           {
            "colorbar": {
             "outlinewidth": 0,
             "ticks": ""
            },
            "type": "choropleth"
           }
          ],
          "contour": [
           {
            "colorbar": {
             "outlinewidth": 0,
             "ticks": ""
            },
            "colorscale": [
             [
              0,
              "#0d0887"
             ],
             [
              0.1111111111111111,
              "#46039f"
             ],
             [
              0.2222222222222222,
              "#7201a8"
             ],
             [
              0.3333333333333333,
              "#9c179e"
             ],
             [
              0.4444444444444444,
              "#bd3786"
             ],
             [
              0.5555555555555556,
              "#d8576b"
             ],
             [
              0.6666666666666666,
              "#ed7953"
             ],
             [
              0.7777777777777778,
              "#fb9f3a"
             ],
             [
              0.8888888888888888,
              "#fdca26"
             ],
             [
              1,
              "#f0f921"
             ]
            ],
            "type": "contour"
           }
          ],
          "contourcarpet": [
           {
            "colorbar": {
             "outlinewidth": 0,
             "ticks": ""
            },
            "type": "contourcarpet"
           }
          ],
          "heatmap": [
           {
            "colorbar": {
             "outlinewidth": 0,
             "ticks": ""
            },
            "colorscale": [
             [
              0,
              "#0d0887"
             ],
             [
              0.1111111111111111,
              "#46039f"
             ],
             [
              0.2222222222222222,
              "#7201a8"
             ],
             [
              0.3333333333333333,
              "#9c179e"
             ],
             [
              0.4444444444444444,
              "#bd3786"
             ],
             [
              0.5555555555555556,
              "#d8576b"
             ],
             [
              0.6666666666666666,
              "#ed7953"
             ],
             [
              0.7777777777777778,
              "#fb9f3a"
             ],
             [
              0.8888888888888888,
              "#fdca26"
             ],
             [
              1,
              "#f0f921"
             ]
            ],
            "type": "heatmap"
           }
          ],
          "heatmapgl": [
           {
            "colorbar": {
             "outlinewidth": 0,
             "ticks": ""
            },
            "colorscale": [
             [
              0,
              "#0d0887"
             ],
             [
              0.1111111111111111,
              "#46039f"
             ],
             [
              0.2222222222222222,
              "#7201a8"
             ],
             [
              0.3333333333333333,
              "#9c179e"
             ],
             [
              0.4444444444444444,
              "#bd3786"
             ],
             [
              0.5555555555555556,
              "#d8576b"
             ],
             [
              0.6666666666666666,
              "#ed7953"
             ],
             [
              0.7777777777777778,
              "#fb9f3a"
             ],
             [
              0.8888888888888888,
              "#fdca26"
             ],
             [
              1,
              "#f0f921"
             ]
            ],
            "type": "heatmapgl"
           }
          ],
          "histogram": [
           {
            "marker": {
             "pattern": {
              "fillmode": "overlay",
              "size": 10,
              "solidity": 0.2
             }
            },
            "type": "histogram"
           }
          ],
          "histogram2d": [
           {
            "colorbar": {
             "outlinewidth": 0,
             "ticks": ""
            },
            "colorscale": [
             [
              0,
              "#0d0887"
             ],
             [
              0.1111111111111111,
              "#46039f"
             ],
             [
              0.2222222222222222,
              "#7201a8"
             ],
             [
              0.3333333333333333,
              "#9c179e"
             ],
             [
              0.4444444444444444,
              "#bd3786"
             ],
             [
              0.5555555555555556,
              "#d8576b"
             ],
             [
              0.6666666666666666,
              "#ed7953"
             ],
             [
              0.7777777777777778,
              "#fb9f3a"
             ],
             [
              0.8888888888888888,
              "#fdca26"
             ],
             [
              1,
              "#f0f921"
             ]
            ],
            "type": "histogram2d"
           }
          ],
          "histogram2dcontour": [
           {
            "colorbar": {
             "outlinewidth": 0,
             "ticks": ""
            },
            "colorscale": [
             [
              0,
              "#0d0887"
             ],
             [
              0.1111111111111111,
              "#46039f"
             ],
             [
              0.2222222222222222,
              "#7201a8"
             ],
             [
              0.3333333333333333,
              "#9c179e"
             ],
             [
              0.4444444444444444,
              "#bd3786"
             ],
             [
              0.5555555555555556,
              "#d8576b"
             ],
             [
              0.6666666666666666,
              "#ed7953"
             ],
             [
              0.7777777777777778,
              "#fb9f3a"
             ],
             [
              0.8888888888888888,
              "#fdca26"
             ],
             [
              1,
              "#f0f921"
             ]
            ],
            "type": "histogram2dcontour"
           }
          ],
          "mesh3d": [
           {
            "colorbar": {
             "outlinewidth": 0,
             "ticks": ""
            },
            "type": "mesh3d"
           }
          ],
          "parcoords": [
           {
            "line": {
             "colorbar": {
              "outlinewidth": 0,
              "ticks": ""
             }
            },
            "type": "parcoords"
           }
          ],
          "pie": [
           {
            "automargin": true,
            "type": "pie"
           }
          ],
          "scatter": [
           {
            "fillpattern": {
             "fillmode": "overlay",
             "size": 10,
             "solidity": 0.2
            },
            "type": "scatter"
           }
          ],
          "scatter3d": [
           {
            "line": {
             "colorbar": {
              "outlinewidth": 0,
              "ticks": ""
             }
            },
            "marker": {
             "colorbar": {
              "outlinewidth": 0,
              "ticks": ""
             }
            },
            "type": "scatter3d"
           }
          ],
          "scattercarpet": [
           {
            "marker": {
             "colorbar": {
              "outlinewidth": 0,
              "ticks": ""
             }
            },
            "type": "scattercarpet"
           }
          ],
          "scattergeo": [
           {
            "marker": {
             "colorbar": {
              "outlinewidth": 0,
              "ticks": ""
             }
            },
            "type": "scattergeo"
           }
          ],
          "scattergl": [
           {
            "marker": {
             "colorbar": {
              "outlinewidth": 0,
              "ticks": ""
             }
            },
            "type": "scattergl"
           }
          ],
          "scattermapbox": [
           {
            "marker": {
             "colorbar": {
              "outlinewidth": 0,
              "ticks": ""
             }
            },
            "type": "scattermapbox"
           }
          ],
          "scatterpolar": [
           {
            "marker": {
             "colorbar": {
              "outlinewidth": 0,
              "ticks": ""
             }
            },
            "type": "scatterpolar"
           }
          ],
          "scatterpolargl": [
           {
            "marker": {
             "colorbar": {
              "outlinewidth": 0,
              "ticks": ""
             }
            },
            "type": "scatterpolargl"
           }
          ],
          "scatterternary": [
           {
            "marker": {
             "colorbar": {
              "outlinewidth": 0,
              "ticks": ""
             }
            },
            "type": "scatterternary"
           }
          ],
          "surface": [
           {
            "colorbar": {
             "outlinewidth": 0,
             "ticks": ""
            },
            "colorscale": [
             [
              0,
              "#0d0887"
             ],
             [
              0.1111111111111111,
              "#46039f"
             ],
             [
              0.2222222222222222,
              "#7201a8"
             ],
             [
              0.3333333333333333,
              "#9c179e"
             ],
             [
              0.4444444444444444,
              "#bd3786"
             ],
             [
              0.5555555555555556,
              "#d8576b"
             ],
             [
              0.6666666666666666,
              "#ed7953"
             ],
             [
              0.7777777777777778,
              "#fb9f3a"
             ],
             [
              0.8888888888888888,
              "#fdca26"
             ],
             [
              1,
              "#f0f921"
             ]
            ],
            "type": "surface"
           }
          ],
          "table": [
           {
            "cells": {
             "fill": {
              "color": "#EBF0F8"
             },
             "line": {
              "color": "white"
             }
            },
            "header": {
             "fill": {
              "color": "#C8D4E3"
             },
             "line": {
              "color": "white"
             }
            },
            "type": "table"
           }
          ]
         },
         "layout": {
          "annotationdefaults": {
           "arrowcolor": "#2a3f5f",
           "arrowhead": 0,
           "arrowwidth": 1
          },
          "autotypenumbers": "strict",
          "coloraxis": {
           "colorbar": {
            "outlinewidth": 0,
            "ticks": ""
           }
          },
          "colorscale": {
           "diverging": [
            [
             0,
             "#8e0152"
            ],
            [
             0.1,
             "#c51b7d"
            ],
            [
             0.2,
             "#de77ae"
            ],
            [
             0.3,
             "#f1b6da"
            ],
            [
             0.4,
             "#fde0ef"
            ],
            [
             0.5,
             "#f7f7f7"
            ],
            [
             0.6,
             "#e6f5d0"
            ],
            [
             0.7,
             "#b8e186"
            ],
            [
             0.8,
             "#7fbc41"
            ],
            [
             0.9,
             "#4d9221"
            ],
            [
             1,
             "#276419"
            ]
           ],
           "sequential": [
            [
             0,
             "#0d0887"
            ],
            [
             0.1111111111111111,
             "#46039f"
            ],
            [
             0.2222222222222222,
             "#7201a8"
            ],
            [
             0.3333333333333333,
             "#9c179e"
            ],
            [
             0.4444444444444444,
             "#bd3786"
            ],
            [
             0.5555555555555556,
             "#d8576b"
            ],
            [
             0.6666666666666666,
             "#ed7953"
            ],
            [
             0.7777777777777778,
             "#fb9f3a"
            ],
            [
             0.8888888888888888,
             "#fdca26"
            ],
            [
             1,
             "#f0f921"
            ]
           ],
           "sequentialminus": [
            [
             0,
             "#0d0887"
            ],
            [
             0.1111111111111111,
             "#46039f"
            ],
            [
             0.2222222222222222,
             "#7201a8"
            ],
            [
             0.3333333333333333,
             "#9c179e"
            ],
            [
             0.4444444444444444,
             "#bd3786"
            ],
            [
             0.5555555555555556,
             "#d8576b"
            ],
            [
             0.6666666666666666,
             "#ed7953"
            ],
            [
             0.7777777777777778,
             "#fb9f3a"
            ],
            [
             0.8888888888888888,
             "#fdca26"
            ],
            [
             1,
             "#f0f921"
            ]
           ]
          },
          "colorway": [
           "#636efa",
           "#EF553B",
           "#00cc96",
           "#ab63fa",
           "#FFA15A",
           "#19d3f3",
           "#FF6692",
           "#B6E880",
           "#FF97FF",
           "#FECB52"
          ],
          "font": {
           "color": "#2a3f5f"
          },
          "geo": {
           "bgcolor": "white",
           "lakecolor": "white",
           "landcolor": "#E5ECF6",
           "showlakes": true,
           "showland": true,
           "subunitcolor": "white"
          },
          "hoverlabel": {
           "align": "left"
          },
          "hovermode": "closest",
          "mapbox": {
           "style": "light"
          },
          "paper_bgcolor": "white",
          "plot_bgcolor": "#E5ECF6",
          "polar": {
           "angularaxis": {
            "gridcolor": "white",
            "linecolor": "white",
            "ticks": ""
           },
           "bgcolor": "#E5ECF6",
           "radialaxis": {
            "gridcolor": "white",
            "linecolor": "white",
            "ticks": ""
           }
          },
          "scene": {
           "xaxis": {
            "backgroundcolor": "#E5ECF6",
            "gridcolor": "white",
            "gridwidth": 2,
            "linecolor": "white",
            "showbackground": true,
            "ticks": "",
            "zerolinecolor": "white"
           },
           "yaxis": {
            "backgroundcolor": "#E5ECF6",
            "gridcolor": "white",
            "gridwidth": 2,
            "linecolor": "white",
            "showbackground": true,
            "ticks": "",
            "zerolinecolor": "white"
           },
           "zaxis": {
            "backgroundcolor": "#E5ECF6",
            "gridcolor": "white",
            "gridwidth": 2,
            "linecolor": "white",
            "showbackground": true,
            "ticks": "",
            "zerolinecolor": "white"
           }
          },
          "shapedefaults": {
           "line": {
            "color": "#2a3f5f"
           }
          },
          "ternary": {
           "aaxis": {
            "gridcolor": "white",
            "linecolor": "white",
            "ticks": ""
           },
           "baxis": {
            "gridcolor": "white",
            "linecolor": "white",
            "ticks": ""
           },
           "bgcolor": "#E5ECF6",
           "caxis": {
            "gridcolor": "white",
            "linecolor": "white",
            "ticks": ""
           }
          },
          "title": {
           "x": 0.05
          },
          "xaxis": {
           "automargin": true,
           "gridcolor": "white",
           "linecolor": "white",
           "ticks": "",
           "title": {
            "standoff": 15
           },
           "zerolinecolor": "white",
           "zerolinewidth": 2
          },
          "yaxis": {
           "automargin": true,
           "gridcolor": "white",
           "linecolor": "white",
           "ticks": "",
           "title": {
            "standoff": 15
           },
           "zerolinecolor": "white",
           "zerolinewidth": 2
          }
         }
        },
        "title": {
         "text": "Logit Difference From Each Head for adversarial samples"
        },
        "width": 600,
        "xaxis": {
         "anchor": "y",
         "autorange": true,
         "constrain": "domain",
         "domain": [
          0.07142857142857145,
          0.9285714285714286
         ],
         "range": [
          -0.5,
          31.5
         ],
         "scaleanchor": "y",
         "title": {
          "text": "Head"
         }
        },
        "yaxis": {
         "anchor": "x",
         "autorange": true,
         "constrain": "domain",
         "domain": [
          0,
          1
         ],
         "range": [
          15.5,
          -0.5
         ],
         "title": {
          "text": "Layer"
         }
        }
       }
      },
      "image/png": "[encoded data removed]",
      "text/html": [
       "<div>                            <div id=\"5a351b2d-fd1f-4c68-8963-a88fa9d51ac7\" class=\"plotly-graph-div\" style=\"height:525px; width:600px;\"></div>            <script type=\"text/javascript\">                require([\"plotly\"], function(Plotly) {                    window.PLOTLYENV=window.PLOTLYENV || {};                                    if (document.getElementById(\"5a351b2d-fd1f-4c68-8963-a88fa9d51ac7\")) {                    Plotly.newPlot(                        \"5a351b2d-fd1f-4c68-8963-a88fa9d51ac7\",                        [{\"coloraxis\":\"coloraxis\",\"name\":\"0\",\"z\":[[0.0003802719002123922,-0.0036066907923668623,-0.011064182966947556,-0.003335498971864581,4.602243279805407e-05,-0.0007433283608406782,-0.002082751365378499,0.005777446087449789,-0.0011227724608033895,-0.00844305194914341,0.0018058668356388807,0.005919507704675198,-0.0018934888066723943,-0.0019505994860082865,0.0042028967291116714,0.003640402341261506,-0.0061845919117331505,0.002912380499765277,0.00036857230588793755,0.001379032852128148,-0.0009496457641944289,0.0017461429815739393,0.006238844711333513,0.0016798984725028276,-0.0011834915494546294,0.0011294936994090676,0.0011149198981001973,0.000851726857945323,-0.0005696307634934783,-0.006673731375485659,-0.009919174015522003,-0.011353670619428158],[0.009311067871749401,-0.005764792673289776,0.00043343257857486606,-0.018757835030555725,-0.008785040117800236,-0.0053854878060519695,-0.004935889039188623,-0.00898353848606348,0.01147814467549324,0.0029214085079729557,0.003056794172152877,-0.008356559090316296,-0.008826394565403461,0.0031171832233667374,-0.00041412480641156435,-0.009195479564368725,0.021108478307724,-0.016576675698161125,0.0031291102059185505,-0.011279079131782055,0.01465232577174902,-0.0016442688647657633,0.0045569539070129395,-0.006932743359357119,0.0021855272352695465,-0.009783841669559479,0.00012644399248529226,-0.011090608313679695,0.0004339632869232446,0.006661922670900822,-0.008410479873418808,0.006080332677811384],[-0.004937755409628153,-0.002088111126795411,-0.0022850963287055492,-0.027259159833192825,0.0046015228144824505,0.022016368806362152,-0.025125594809651375,0.010513863526284695,0.003789318259805441,-0.003245249157771468,-0.0018999878084287047,-0.0004971025628037751,-0.006083890330046415,-0.0030180432368069887,0.014645082876086235,-0.011289765127003193,0.009752124547958374,-0.0030038736294955015,-0.0002146265615010634,0.0014453243929892778,-0.0009129640529863536,0.001696741790510714,-0.014276012778282166,-0.0027384499553591013,-0.01743382029235363,-0.009189343079924583,0.033040475100278854,0.005036196205765009,-0.006846155971288681,0.0023070203606039286,-0.005266055464744568,-0.004133027046918869],[0.0032370996195822954,0.011738236993551254,0.002224372234195471,0.010872229933738708,0.018101418390870094,-0.005594958551228046,0.018540099263191223,0.009424768388271332,0.02057577669620514,-0.02011546678841114,0.008769023232161999,0.0025390153750777245,-0.00027319134096615016,0.0016840666066855192,0.001416989485733211,-0.0011483323760330677,-0.0005433348123915493,0.005496750120073557,-0.020034532994031906,-0.021499967202544212,-0.010750934481620789,-0.016645926982164383,-0.016911307349801064,0.02122274786233902,-0.0039494819939136505,-0.0015160494949668646,0.021939722821116447,-0.011475919745862484,0.07323451340198517,-0.009695661254227161,-0.04106825962662697,0.015249749645590782],[0.005738697946071625,0.04683607816696167,-0.029667576774954796,0.006823782809078693,-0.009078256785869598,0.01237327791750431,-0.008566292934119701,0.005336453672498465,0.009635412134230137,0.006461895536631346,-0.02339480258524418,0.026030197739601135,-0.009799772873520851,0.037551965564489365,-0.008021419867873192,0.07898201048374176,0.10408792644739151,0.01617957092821598,-0.003325246972963214,-0.04287457838654518,0.0038752297405153513,0.016420653089880943,-0.02323785237967968,0.00269371853210032,0.02427365817129612,0.009566829539835453,-0.024014491587877274,-0.013273107819259167,0.001582145574502647,-0.002929843030869961,0.01904927007853985,0.028079714626073837],[-0.0025659448001533747,0.02389727532863617,0.00817650556564331,0.03770064562559128,0.0031059938482940197,0.03668670728802681,-0.015904303640127182,-0.0272347554564476,0.03814851492643356,-0.022748826071619987,-0.0036231435369700193,-0.0030677933245897293,0.01952904649078846,0.007047729566693306,-0.005065441131591797,0.010847079567611217,-0.027736352756619453,0.026955679059028625,-0.0186925046145916,0.00333801144734025,-0.04590114951133728,0.05051060765981674,-0.01531855296343565,-0.006200170144438744,-0.009083140641450882,0.03257839381694794,-0.003429702017456293,-0.03493553772568703,-0.0086194584146142,-0.03026794269680977,0.03583740070462227,0.033790040761232376],[0.0011999349808320403,0.03699988126754761,-0.006835286505520344,0.00840040948241949,0.04469238966703415,-0.05905989557504654,0.02465205267071724,0.034928370267152786,0.122406005859375,-0.02381414920091629,0.006466243416070938,0.014595515094697475,-0.024813074618577957,0.024476608261466026,-0.015271147713065147,-0.010652841068804264,-0.006867298856377602,0.021324079483747482,-0.034464869648218155,-0.005650181323289871,0.015019313432276249,0.10125895589590073,-0.02224653773009777,0.014567195437848568,-0.0007615624344907701,0.04981704428792,-0.037912122905254364,-0.01454644650220871,0.014971181750297546,0.022281773388385773,-0.027784571051597595,0.023858198896050453],[0.009106378071010113,-0.048093825578689575,-0.05411574989557266,0.05436648055911064,0.01632995717227459,-0.06640394032001495,0.0646418035030365,0.0501885786652565,-0.01857326366007328,0.038769956678152084,0.01977505534887314,0.07964751869440079,0.008823963813483715,0.013511519879102707,-0.052944116294384,0.0321609303355217,-0.03209244832396507,-0.012491154484450817,-0.030003536492586136,-0.003839169628918171,-0.01010893378406763,0.03252393752336502,-0.023720957338809967,0.05420132353901863,0.061388757079839706,-0.014921766705811024,-0.10254272818565369,-0.014430844224989414,0.09717803448438644,-0.043818097561597824,0.032275278121232986,0.013053796254098415],[-0.025649016723036766,0.02883020229637623,0.011811316013336182,-0.04748844727873802,-0.033601757138967514,-0.05170658230781555,0.13580472767353058,-0.05490916222333908,-0.030580954626202583,0.00433580856770277,-0.005377199035137892,0.018798206001520157,0.015405954793095589,-0.10512185841798782,0.06903136521577835,0.03243311122059822,-0.10796680301427841,0.01709301955997944,-0.1774436980485916,0.21391117572784424,-0.05982888117432594,0.056900206953287125,0.079754538834095,-0.012146912515163422,-0.06808698922395706,0.0324358232319355,0.0020415664184838533,0.012136195786297321,-0.059164054691791534,0.07109067589044571,-0.0289019625633955,0.04558573663234711],[0.05787038803100586,-0.05564592406153679,0.054731111973524094,0.010066978633403778,-0.06687197089195251,-0.010191289708018303,0.0415029376745224,0.049637917429208755,0.08260412514209747,-0.00034525812952779233,-0.00225414359010756,0.03185425326228142,0.01629026047885418,0.0547388419508934,-0.014681565575301647,-0.02474660612642765,-0.07097716629505157,0.01802797056734562,0.007548396475613117,0.053747549653053284,0.021501196548342705,-0.03220200911164284,0.07108890265226364,-0.047024451196193695,0.0011315424926578999,-0.025196023285388947,0.047617826610803604,0.028765223920345306,0.04355869069695473,-0.06269436329603195,-0.006608705036342144,0.05205921828746796],[-0.016219664365053177,0.012710564769804478,0.03566751629114151,0.021039286628365517,0.028404388576745987,-0.009390696883201599,0.012357684783637524,-0.0244020763784647,0.01651398092508316,0.06122870370745659,-0.06587289273738861,0.02884521894156933,-0.028383107855916023,0.03421301767230034,-0.052166424691677094,-0.04894259199500084,-0.03441997617483139,0.04220195859670639,0.01636870950460434,-0.004343162756413221,0.02312483824789524,0.11393468827009201,-0.10456077754497528,0.06903688609600067,0.0733201801776886,0.0020159906707704067,0.025487713515758514,-0.004210237413644791,0.002648724941536784,-0.0046902489848434925,-0.007367352023720741,0.019070783630013466],[0.02022462897002697,0.03548998013138771,0.012764045037329197,0.038521476089954376,-0.006346826907247305,0.012402948923408985,0.0067116618156433105,0.05545627325773239,0.10112448036670685,0.0351254865527153,-0.06950332969427109,0.07851722836494446,-0.007621594239026308,-0.023265041410923004,-0.04666346311569214,-0.008833983913064003,0.01088589709252119,-0.006732191890478134,0.005077248904854059,-0.005701207555830479,0.010935365222394466,0.008657805621623993,-0.00843166932463646,-0.05727354809641838,0.01792038418352604,-0.02834809198975563,-0.003529599867761135,-0.00921392161399126,0.00453738309442997,0.04988925904035568,-0.024559222161769867,-0.01089869998395443],[0.07087747752666473,0.022356808185577393,-0.08082761615514755,0.06632295995950699,0.01049098651856184,0.02411412075161934,0.02732454612851143,0.007296774536371231,0.0005061386618763208,-0.04203276336193085,-0.0008419418591074646,-0.016843682155013084,0.008538085967302322,0.035348840057849884,-0.007181880064308643,-0.03488926216959953,0.01998608000576496,-0.04126672446727753,0.01616206020116806,0.03987123444676399,0.02182938903570175,-0.026191001757979393,0.04731559753417969,-0.005003540776669979,-0.011059088632464409,-0.010716072283685207,-0.0037318943068385124,-0.009704673662781715,0.09409927576780319,-0.017698068171739578,0.005699812900274992,0.006849684286862612],[0.03384186699986458,0.0025795407127588987,0.030255626887083054,-0.0057648299261927605,-0.0012381288688629866,-0.022890109568834305,-0.03348967060446739,0.012531355954706669,-0.007459843996912241,0.02013576030731201,-0.13316959142684937,0.14482928812503815,0.007764088921248913,-0.06442215293645859,0.001961679430678487,-0.012944187968969345,0.0438503734767437,-0.05485209450125694,0.016688711941242218,0.04461837559938431,0.07986056804656982,0.04690460115671158,0.02475234493613243,-0.01953168958425522,0.027062401175498962,0.0965852364897728,-0.04984930157661438,0.00995352678000927,-0.06823671609163284,0.03633072227239609,-0.03999887406826019,-0.15100210905075073],[0.02122773975133896,0.0064615667797625065,-0.027169037610292435,0.03582590073347092,0.08899921178817749,-0.04186380282044411,0.07427602261304855,-0.003258767072111368,0.007097925990819931,-0.006006555166095495,0.0040152063593268394,-0.03500845283269882,-0.008039667271077633,-0.03807050362229347,-0.007724157068878412,0.16037625074386597,0.0324096605181694,0.003182011656463146,0.04310803487896919,-0.007536064367741346,-0.014951562508940697,0.10365455597639084,-0.08308485150337219,0.006271507125347853,0.00018808625463861972,0.34429219365119934,0.01446972880512476,0.08966822922229767,0.058699265122413635,0.1319667100906372,-0.0057273562997579575,-0.08293353766202927],[0.026251595467329025,0.13951513171195984,-0.1216048002243042,-0.009207626804709435,-0.2306274026632309,-0.009281170554459095,-0.008198058232665062,0.019881343469023705,-0.06484868377447128,-0.03697977215051651,-0.05422072112560272,0.04061034694314003,0.02086353674530983,0.015032196417450905,-0.09480751305818558,-0.012262382544577122,0.04045287147164345,0.03633561730384827,0.04202282801270485,0.010912294499576092,0.029759667813777924,0.07308204472064972,-0.015823082998394966,0.20737574994564056,-0.053319185972213745,-0.0018578462768346071,0.018430808559060097,0.00786020327359438,-0.03708020970225334,-0.017724327743053436,-2.2182886823429726e-05,0.018649021163582802]],\"type\":\"heatmap\",\"xaxis\":\"x\",\"yaxis\":\"y\",\"hovertemplate\":\"Head: %{x}\\u003cbr\\u003eLayer: %{y}\\u003cbr\\u003ecolor: %{z}\\u003cextra\\u003e\\u003c\\u002fextra\\u003e\"}],                        {\"template\":{\"data\":{\"histogram2dcontour\":[{\"type\":\"histogram2dcontour\",\"colorbar\":{\"outlinewidth\":0,\"ticks\":\"\"},\"colorscale\":[[0.0,\"#0d0887\"],[0.1111111111111111,\"#46039f\"],[0.2222222222222222,\"#7201a8\"],[0.3333333333333333,\"#9c179e\"],[0.4444444444444444,\"#bd3786\"],[0.5555555555555556,\"#d8576b\"],[0.6666666666666666,\"#ed7953\"],[0.7777777777777778,\"#fb9f3a\"],[0.8888888888888888,\"#fdca26\"],[1.0,\"#f0f921\"]]}],\"choropleth\":[{\"type\":\"choropleth\",\"colorbar\":{\"outlinewidth\":0,\"ticks\":\"\"}}],\"histogram2d\":[{\"type\":\"histogram2d\",\"colorbar\":{\"outlinewidth\":0,\"ticks\":\"\"},\"colorscale\":[[0.0,\"#0d0887\"],[0.1111111111111111,\"#46039f\"],[0.2222222222222222,\"#7201a8\"],[0.3333333333333333,\"#9c179e\"],[0.4444444444444444,\"#bd3786\"],[0.5555555555555556,\"#d8576b\"],[0.6666666666666666,\"#ed7953\"],[0.7777777777777778,\"#fb9f3a\"],[0.8888888888888888,\"#fdca26\"],[1.0,\"#f0f921\"]]}],\"heatmap\":[{\"type\":\"heatmap\",\"colorbar\":{\"outlinewidth\":0,\"ticks\":\"\"},\"colorscale\":[[0.0,\"#0d0887\"],[0.1111111111111111,\"#46039f\"],[0.2222222222222222,\"#7201a8\"],[0.3333333333333333,\"#9c179e\"],[0.4444444444444444,\"#bd3786\"],[0.5555555555555556,\"#d8576b\"],[0.6666666666666666,\"#ed7953\"],[0.7777777777777778,\"#fb9f3a\"],[0.8888888888888888,\"#fdca26\"],[1.0,\"#f0f921\"]]}],\"heatmapgl\":[{\"type\":\"heatmapgl\",\"colorbar\":{\"outlinewidth\":0,\"ticks\":\"\"},\"colorscale\":[[0.0,\"#0d0887\"],[0.1111111111111111,\"#46039f\"],[0.2222222222222222,\"#7201a8\"],[0.3333333333333333,\"#9c179e\"],[0.4444444444444444,\"#bd3786\"],[0.5555555555555556,\"#d8576b\"],[0.6666666666666666,\"#ed7953\"],[0.7777777777777778,\"#fb9f3a\"],[0.8888888888888888,\"#fdca26\"],[1.0,\"#f0f921\"]]}],\"contourcarpet\":[{\"type\":\"contourcarpet\",\"colorbar\":{\"outlinewidth\":0,\"ticks\":\"\"}}],\"contour\":[{\"type\":\"contour\",\"colorbar\":{\"outlinewidth\":0,\"ticks\":\"\"},\"colorscale\":[[0.0,\"#0d0887\"],[0.1111111111111111,\"#46039f\"],[0.2222222222222222,\"#7201a8\"],[0.3333333333333333,\"#9c179e\"],[0.4444444444444444,\"#bd3786\"],[0.5555555555555556,\"#d8576b\"],[0.6666666666666666,\"#ed7953\"],[0.7777777777777778,\"#fb9f3a\"],[0.8888888888888888,\"#fdca26\"],[1.0,\"#f0f921\"]]}],\"surface\":[{\"type\":\"surface\",\"colorbar\":{\"outlinewidth\":0,\"ticks\":\"\"},\"colorscale\":[[0.0,\"#0d0887\"],[0.1111111111111111,\"#46039f\"],[0.2222222222222222,\"#7201a8\"],[0.3333333333333333,\"#9c179e\"],[0.4444444444444444,\"#bd3786\"],[0.5555555555555556,\"#d8576b\"],[0.6666666666666666,\"#ed7953\"],[0.7777777777777778,\"#fb9f3a\"],[0.8888888888888888,\"#fdca26\"],[1.0,\"#f0f921\"]]}],\"mesh3d\":[{\"type\":\"mesh3d\",\"colorbar\":{\"outlinewidth\":0,\"ticks\":\"\"}}],\"scatter\":[{\"fillpattern\":{\"fillmode\":\"overlay\",\"size\":10,\"solidity\":0.2},\"type\":\"scatter\"}],\"parcoords\":[{\"type\":\"parcoords\",\"line\":{\"colorbar\":{\"outlinewidth\":0,\"ticks\":\"\"}}}],\"scatterpolargl\":[{\"type\":\"scatterpolargl\",\"marker\":{\"colorbar\":{\"outlinewidth\":0,\"ticks\":\"\"}}}],\"bar\":[{\"error_x\":{\"color\":\"#2a3f5f\"},\"error_y\":{\"color\":\"#2a3f5f\"},\"marker\":{\"line\":{\"color\":\"#E5ECF6\",\"width\":0.5},\"pattern\":{\"fillmode\":\"overlay\",\"size\":10,\"solidity\":0.2}},\"type\":\"bar\"}],\"scattergeo\":[{\"type\":\"scattergeo\",\"marker\":{\"colorbar\":{\"outlinewidth\":0,\"ticks\":\"\"}}}],\"scatterpolar\":[{\"type\":\"scatterpolar\",\"marker\":{\"colorbar\":{\"outlinewidth\":0,\"ticks\":\"\"}}}],\"histogram\":[{\"marker\":{\"pattern\":{\"fillmode\":\"overlay\",\"size\":10,\"solidity\":0.2}},\"type\":\"histogram\"}],\"scattergl\":[{\"type\":\"scattergl\",\"marker\":{\"colorbar\":{\"outlinewidth\":0,\"ticks\":\"\"}}}],\"scatter3d\":[{\"type\":\"scatter3d\",\"line\":{\"colorbar\":{\"outlinewidth\":0,\"ticks\":\"\"}},\"marker\":{\"colorbar\":{\"outlinewidth\":0,\"ticks\":\"\"}}}],\"scattermapbox\":[{\"type\":\"scattermapbox\",\"marker\":{\"colorbar\":{\"outlinewidth\":0,\"ticks\":\"\"}}}],\"scatterternary\":[{\"type\":\"scatterternary\",\"marker\":{\"colorbar\":{\"outlinewidth\":0,\"ticks\":\"\"}}}],\"scattercarpet\":[{\"type\":\"scattercarpet\",\"marker\":{\"colorbar\":{\"outlinewidth\":0,\"ticks\":\"\"}}}],\"carpet\":[{\"aaxis\":{\"endlinecolor\":\"#2a3f5f\",\"gridcolor\":\"white\",\"linecolor\":\"white\",\"minorgridcolor\":\"white\",\"startlinecolor\":\"#2a3f5f\"},\"baxis\":{\"endlinecolor\":\"#2a3f5f\",\"gridcolor\":\"white\",\"linecolor\":\"white\",\"minorgridcolor\":\"white\",\"startlinecolor\":\"#2a3f5f\"},\"type\":\"carpet\"}],\"table\":[{\"cells\":{\"fill\":{\"color\":\"#EBF0F8\"},\"line\":{\"color\":\"white\"}},\"header\":{\"fill\":{\"color\":\"#C8D4E3\"},\"line\":{\"color\":\"white\"}},\"type\":\"table\"}],\"barpolar\":[{\"marker\":{\"line\":{\"color\":\"#E5ECF6\",\"width\":0.5},\"pattern\":{\"fillmode\":\"overlay\",\"size\":10,\"solidity\":0.2}},\"type\":\"barpolar\"}],\"pie\":[{\"automargin\":true,\"type\":\"pie\"}]},\"layout\":{\"autotypenumbers\":\"strict\",\"colorway\":[\"#636efa\",\"#EF553B\",\"#00cc96\",\"#ab63fa\",\"#FFA15A\",\"#19d3f3\",\"#FF6692\",\"#B6E880\",\"#FF97FF\",\"#FECB52\"],\"font\":{\"color\":\"#2a3f5f\"},\"hovermode\":\"closest\",\"hoverlabel\":{\"align\":\"left\"},\"paper_bgcolor\":\"white\",\"plot_bgcolor\":\"#E5ECF6\",\"polar\":{\"bgcolor\":\"#E5ECF6\",\"angularaxis\":{\"gridcolor\":\"white\",\"linecolor\":\"white\",\"ticks\":\"\"},\"radialaxis\":{\"gridcolor\":\"white\",\"linecolor\":\"white\",\"ticks\":\"\"}},\"ternary\":{\"bgcolor\":\"#E5ECF6\",\"aaxis\":{\"gridcolor\":\"white\",\"linecolor\":\"white\",\"ticks\":\"\"},\"baxis\":{\"gridcolor\":\"white\",\"linecolor\":\"white\",\"ticks\":\"\"},\"caxis\":{\"gridcolor\":\"white\",\"linecolor\":\"white\",\"ticks\":\"\"}},\"coloraxis\":{\"colorbar\":{\"outlinewidth\":0,\"ticks\":\"\"}},\"colorscale\":{\"sequential\":[[0.0,\"#0d0887\"],[0.1111111111111111,\"#46039f\"],[0.2222222222222222,\"#7201a8\"],[0.3333333333333333,\"#9c179e\"],[0.4444444444444444,\"#bd3786\"],[0.5555555555555556,\"#d8576b\"],[0.6666666666666666,\"#ed7953\"],[0.7777777777777778,\"#fb9f3a\"],[0.8888888888888888,\"#fdca26\"],[1.0,\"#f0f921\"]],\"sequentialminus\":[[0.0,\"#0d0887\"],[0.1111111111111111,\"#46039f\"],[0.2222222222222222,\"#7201a8\"],[0.3333333333333333,\"#9c179e\"],[0.4444444444444444,\"#bd3786\"],[0.5555555555555556,\"#d8576b\"],[0.6666666666666666,\"#ed7953\"],[0.7777777777777778,\"#fb9f3a\"],[0.8888888888888888,\"#fdca26\"],[1.0,\"#f0f921\"]],\"diverging\":[[0,\"#8e0152\"],[0.1,\"#c51b7d\"],[0.2,\"#de77ae\"],[0.3,\"#f1b6da\"],[0.4,\"#fde0ef\"],[0.5,\"#f7f7f7\"],[0.6,\"#e6f5d0\"],[0.7,\"#b8e186\"],[0.8,\"#7fbc41\"],[0.9,\"#4d9221\"],[1,\"#276419\"]]},\"xaxis\":{\"gridcolor\":\"white\",\"linecolor\":\"white\",\"ticks\":\"\",\"title\":{\"standoff\":15},\"zerolinecolor\":\"white\",\"automargin\":true,\"zerolinewidth\":2},\"yaxis\":{\"gridcolor\":\"white\",\"linecolor\":\"white\",\"ticks\":\"\",\"title\":{\"standoff\":15},\"zerolinecolor\":\"white\",\"automargin\":true,\"zerolinewidth\":2},\"scene\":{\"xaxis\":{\"backgroundcolor\":\"#E5ECF6\",\"gridcolor\":\"white\",\"linecolor\":\"white\",\"showbackground\":true,\"ticks\":\"\",\"zerolinecolor\":\"white\",\"gridwidth\":2},\"yaxis\":{\"backgroundcolor\":\"#E5ECF6\",\"gridcolor\":\"white\",\"linecolor\":\"white\",\"showbackground\":true,\"ticks\":\"\",\"zerolinecolor\":\"white\",\"gridwidth\":2},\"zaxis\":{\"backgroundcolor\":\"#E5ECF6\",\"gridcolor\":\"white\",\"linecolor\":\"white\",\"showbackground\":true,\"ticks\":\"\",\"zerolinecolor\":\"white\",\"gridwidth\":2}},\"shapedefaults\":{\"line\":{\"color\":\"#2a3f5f\"}},\"annotationdefaults\":{\"arrowcolor\":\"#2a3f5f\",\"arrowhead\":0,\"arrowwidth\":1},\"geo\":{\"bgcolor\":\"white\",\"landcolor\":\"#E5ECF6\",\"subunitcolor\":\"white\",\"showland\":true,\"showlakes\":true,\"lakecolor\":\"white\"},\"title\":{\"x\":0.05},\"mapbox\":{\"style\":\"light\"}}},\"xaxis\":{\"anchor\":\"y\",\"domain\":[0.0,1.0],\"scaleanchor\":\"y\",\"constrain\":\"domain\",\"title\":{\"text\":\"Head\"}},\"yaxis\":{\"anchor\":\"x\",\"domain\":[0.0,1.0],\"autorange\":\"reversed\",\"constrain\":\"domain\",\"title\":{\"text\":\"Layer\"}},\"coloraxis\":{\"colorscale\":[[0.0,\"rgb(103,0,31)\"],[0.1,\"rgb(178,24,43)\"],[0.2,\"rgb(214,96,77)\"],[0.3,\"rgb(244,165,130)\"],[0.4,\"rgb(253,219,199)\"],[0.5,\"rgb(247,247,247)\"],[0.6,\"rgb(209,229,240)\"],[0.7,\"rgb(146,197,222)\"],[0.8,\"rgb(67,147,195)\"],[0.9,\"rgb(33,102,172)\"],[1.0,\"rgb(5,48,97)\"]],\"cmid\":0.0},\"title\":{\"text\":\"Logit Difference From Each Head for adversarial samples\"},\"width\":600},                        {\"staticPlot\": false, \"responsive\": true}                    ).then(function(){\n",
       "                            \n",
       "var gd = document.getElementById('5a351b2d-fd1f-4c68-8963-a88fa9d51ac7');\n",
       "var x = new MutationObserver(function (mutations, observer) {{\n",
       "        var display = window.getComputedStyle(gd).display;\n",
       "        if (!display || display === 'none') {{\n",
       "            console.log([gd, 'removed!']);\n",
       "            Plotly.purge(gd);\n",
       "            observer.disconnect();\n",
       "        }}\n",
       "}});\n",
       "\n",
       "// Listen for the removal of the full notebook cells\n",
       "var notebookContainer = gd.closest('#notebook-container');\n",
       "if (notebookContainer) {{\n",
       "    x.observe(notebookContainer, {childList: true});\n",
       "}}\n",
       "\n",
       "// Listen for the clearing of the current output cell\n",
       "var outputEl = gd.closest('.output');\n",
       "if (outputEl) {{\n",
       "    x.observe(outputEl, {childList: true});\n",
       "}}\n",
       "\n",
       "                        })                };                });            </script>        </div>"
      ]
     },
     "metadata": {},
     "output_type": "display_data"
    }
   ],
   "source": [
    "imshow(\n",
    "        mean_per_head_logit_diffs,\n",
    "        labels={\"x\":\"Head\", \"y\":\"Layer\"},\n",
    "        title=f\"Logit Difference From Each Head for adversarial samples\",\n",
    "        width=600\n",
    "    )"
   ]
  },
  {
   "cell_type": "code",
   "execution_count": null,
   "metadata": {},
   "outputs": [],
   "source": [
    "output_folder = 'work/outputs_vul'\n",
    "\n",
    "full_per_head_logit_diffs = load_files_named(output_folder, file_starts_with='full', if_gpu=True)\n",
    "\n",
    "mean_per_head_logit_diffs = torch.mean(torch.stack(full_per_head_logit_diffs), dim=0)\n",
    "\n",
    "torch.save(mean_per_head_logit_diffs, f'work/saved/bias/vul_heads_og_method_bias.pth')"
   ]
  }
 ],
 "metadata": {
  "kernelspec": {
   "display_name": "dl2024",
   "language": "python",
   "name": "python3"
  },
  "language_info": {
   "codemirror_mode": {
    "name": "ipython",
    "version": 3
   },
   "file_extension": ".py",
   "mimetype": "text/x-python",
   "name": "python",
   "nbconvert_exporter": "python",
   "pygments_lexer": "ipython3",
   "version": "3.12.7"
  }
 },
 "nbformat": 4,
 "nbformat_minor": 4
}
